{
 "cells": [
  {
   "cell_type": "markdown",
   "metadata": {},
   "source": [
    "# 팀원명단(학과,학번,이름)\n",
    "### 경영학과 2020-29727 문승현\n",
    "### 지리학과 2020-10226 염수민\n",
    "### 간호학과 2017-12800 민현지\n",
    "### 경영학과 2017-17345 염승준\n",
    "### 간호학과 2015-18034 박광훈\n",
    "\n",
    "\n",
    "# 주제 : 근로소득으로 서울시에서 집을 사는 것, 과연 가능할까?"
   ]
  },
  {
   "cell_type": "markdown",
   "metadata": {},
   "source": [
    "# 기본 설정 하기"
   ]
  },
  {
   "cell_type": "code",
   "execution_count": 6,
   "metadata": {},
   "outputs": [],
   "source": [
    "import matplotlib.pyplot as plt\n",
    "from matplotlib import rc\n",
    "import matplotlib as mpl\n",
    "import matplotlib.font_manager as fm\n",
    "import seaborn as sns\n",
    "import pandas as pd"
   ]
  },
  {
   "cell_type": "markdown",
   "metadata": {},
   "source": [
    "데이터 분석에 앞서 폰트 설정을 진행하였다."
   ]
  },
  {
   "cell_type": "code",
   "execution_count": 9,
   "metadata": {},
   "outputs": [],
   "source": [
    "### Windows용 font 설정 ###\n",
    "fm.get_fontconfig_fonts()\n",
    "font_location = 'C:\\\\Windows\\\\Fonts\\\\malgun.ttf' \n",
    "font_name = fm.FontProperties(fname=font_location, size=10).get_name()\n",
    "rc('font', family=font_name)\n",
    "fm._rebuild()\n",
    "mpl.rcParams['axes.unicode_minus']=False\n",
    "\n",
    "### Mac용 font 설정 ###\n",
    "# rc('font', family='AppleGothic') \n",
    "# plt.rcParams['axes.unicode_minus'] = False"
   ]
  },
  {
   "cell_type": "markdown",
   "metadata": {},
   "source": [
    "# 데이터 불러오기\n",
    "서울시 공공 데이터에서 얻은 2016~2020년 부동산 가격 정보 자료를 property라는 변수에 연도별로 구분하여 담았다."
   ]
  },
  {
   "cell_type": "code",
   "execution_count": 8,
   "metadata": {},
   "outputs": [],
   "source": [
    "property16 = pd.read_csv('Seoul_2016.csv', usecols = [3, 6, 15, 16], encoding='utf-8')\n",
    "property17 = pd.read_csv('Seoul_2017.csv', usecols = [3, 6, 15, 16], encoding='utf-8')\n",
    "property18 = pd.read_csv('Seoul_2018.csv', usecols = [3, 6, 15, 16], encoding='utf-8')\n",
    "property19 = pd.read_csv('Seoul_2019.csv', usecols = [3, 6, 15, 16], encoding='utf-8')\n",
    "property20 = pd.read_csv('Seoul_2020.csv', usecols = [3, 6, 15, 16], encoding='euc-kr')"
   ]
  },
  {
   "cell_type": "markdown",
   "metadata": {},
   "source": [
    "# 데이터 결합하기\n",
    "2016~2020년 부동산 가격 정보 자료를 종합하여 property_all이라는 변수에 담았다."
   ]
  },
  {
   "cell_type": "code",
   "execution_count": 9,
   "metadata": {},
   "outputs": [
    {
     "data": {
      "text/html": [
       "<div>\n",
       "<style scoped>\n",
       "    .dataframe tbody tr th:only-of-type {\n",
       "        vertical-align: middle;\n",
       "    }\n",
       "\n",
       "    .dataframe tbody tr th {\n",
       "        vertical-align: top;\n",
       "    }\n",
       "\n",
       "    .dataframe thead th {\n",
       "        text-align: right;\n",
       "    }\n",
       "</style>\n",
       "<table border=\"1\" class=\"dataframe\">\n",
       "  <thead>\n",
       "    <tr style=\"text-align: right;\">\n",
       "      <th></th>\n",
       "      <th>자치구명</th>\n",
       "      <th>신고년도</th>\n",
       "      <th>건물주용도</th>\n",
       "      <th>물건금액</th>\n",
       "    </tr>\n",
       "  </thead>\n",
       "  <tbody>\n",
       "    <tr>\n",
       "      <th>0</th>\n",
       "      <td>중랑구</td>\n",
       "      <td>2016</td>\n",
       "      <td>단독주택</td>\n",
       "      <td>352000000</td>\n",
       "    </tr>\n",
       "    <tr>\n",
       "      <th>1</th>\n",
       "      <td>영등포구</td>\n",
       "      <td>2016</td>\n",
       "      <td>아파트</td>\n",
       "      <td>450000000</td>\n",
       "    </tr>\n",
       "    <tr>\n",
       "      <th>2</th>\n",
       "      <td>동작구</td>\n",
       "      <td>2016</td>\n",
       "      <td>단독주택</td>\n",
       "      <td>874000000</td>\n",
       "    </tr>\n",
       "    <tr>\n",
       "      <th>3</th>\n",
       "      <td>영등포구</td>\n",
       "      <td>2016</td>\n",
       "      <td>아파트</td>\n",
       "      <td>500000000</td>\n",
       "    </tr>\n",
       "    <tr>\n",
       "      <th>4</th>\n",
       "      <td>노원구</td>\n",
       "      <td>2016</td>\n",
       "      <td>아파트</td>\n",
       "      <td>241000000</td>\n",
       "    </tr>\n",
       "    <tr>\n",
       "      <th>...</th>\n",
       "      <td>...</td>\n",
       "      <td>...</td>\n",
       "      <td>...</td>\n",
       "      <td>...</td>\n",
       "    </tr>\n",
       "    <tr>\n",
       "      <th>776358</th>\n",
       "      <td>강동구</td>\n",
       "      <td>2020</td>\n",
       "      <td>아파트</td>\n",
       "      <td>547000000</td>\n",
       "    </tr>\n",
       "    <tr>\n",
       "      <th>776359</th>\n",
       "      <td>강동구</td>\n",
       "      <td>2020</td>\n",
       "      <td>아파트</td>\n",
       "      <td>658000000</td>\n",
       "    </tr>\n",
       "    <tr>\n",
       "      <th>776360</th>\n",
       "      <td>강동구</td>\n",
       "      <td>2020</td>\n",
       "      <td>연립주택</td>\n",
       "      <td>215000000</td>\n",
       "    </tr>\n",
       "    <tr>\n",
       "      <th>776361</th>\n",
       "      <td>관악구</td>\n",
       "      <td>2020</td>\n",
       "      <td>단독주택</td>\n",
       "      <td>455000000</td>\n",
       "    </tr>\n",
       "    <tr>\n",
       "      <th>776362</th>\n",
       "      <td>강남구</td>\n",
       "      <td>2020</td>\n",
       "      <td>단독주택</td>\n",
       "      <td>2777500000</td>\n",
       "    </tr>\n",
       "  </tbody>\n",
       "</table>\n",
       "<p>776363 rows × 4 columns</p>\n",
       "</div>"
      ],
      "text/plain": [
       "        자치구명  신고년도 건물주용도        물건금액\n",
       "0        중랑구  2016  단독주택   352000000\n",
       "1       영등포구  2016   아파트   450000000\n",
       "2        동작구  2016  단독주택   874000000\n",
       "3       영등포구  2016   아파트   500000000\n",
       "4        노원구  2016   아파트   241000000\n",
       "...      ...   ...   ...         ...\n",
       "776358   강동구  2020   아파트   547000000\n",
       "776359   강동구  2020   아파트   658000000\n",
       "776360   강동구  2020  연립주택   215000000\n",
       "776361   관악구  2020  단독주택   455000000\n",
       "776362   강남구  2020  단독주택  2777500000\n",
       "\n",
       "[776363 rows x 4 columns]"
      ]
     },
     "execution_count": 9,
     "metadata": {},
     "output_type": "execute_result"
    }
   ],
   "source": [
    "property_all = pd.concat([property16,property17,property18,property19,property20],ignore_index=True)\n",
    "property_all"
   ]
  },
  {
   "cell_type": "markdown",
   "metadata": {},
   "source": [
    "# 연도 별 평균 부동산 금액 구하기\n",
    "부동산 가격 정보 자료를 '신고년도'별로 구분하여 부동산 물건금액의 '평균'을 구하였다."
   ]
  },
  {
   "cell_type": "code",
   "execution_count": 10,
   "metadata": {},
   "outputs": [
    {
     "data": {
      "text/html": [
       "<div>\n",
       "<style scoped>\n",
       "    .dataframe tbody tr th:only-of-type {\n",
       "        vertical-align: middle;\n",
       "    }\n",
       "\n",
       "    .dataframe tbody tr th {\n",
       "        vertical-align: top;\n",
       "    }\n",
       "\n",
       "    .dataframe thead th {\n",
       "        text-align: right;\n",
       "    }\n",
       "</style>\n",
       "<table border=\"1\" class=\"dataframe\">\n",
       "  <thead>\n",
       "    <tr style=\"text-align: right;\">\n",
       "      <th></th>\n",
       "      <th>물건금액</th>\n",
       "    </tr>\n",
       "    <tr>\n",
       "      <th>신고년도</th>\n",
       "      <th></th>\n",
       "    </tr>\n",
       "  </thead>\n",
       "  <tbody>\n",
       "    <tr>\n",
       "      <th>2016</th>\n",
       "      <td>457960511</td>\n",
       "    </tr>\n",
       "    <tr>\n",
       "      <th>2017</th>\n",
       "      <td>508929164</td>\n",
       "    </tr>\n",
       "    <tr>\n",
       "      <th>2018</th>\n",
       "      <td>549348740</td>\n",
       "    </tr>\n",
       "    <tr>\n",
       "      <th>2019</th>\n",
       "      <td>622549442</td>\n",
       "    </tr>\n",
       "    <tr>\n",
       "      <th>2020</th>\n",
       "      <td>576351459</td>\n",
       "    </tr>\n",
       "  </tbody>\n",
       "</table>\n",
       "</div>"
      ],
      "text/plain": [
       "           물건금액\n",
       "신고년도           \n",
       "2016  457960511\n",
       "2017  508929164\n",
       "2018  549348740\n",
       "2019  622549442\n",
       "2020  576351459"
      ]
     },
     "execution_count": 10,
     "metadata": {},
     "output_type": "execute_result"
    }
   ],
   "source": [
    "group_gu_all=property_all.groupby(['신고년도']).mean().astype(int)\n",
    "group_gu_all"
   ]
  },
  {
   "cell_type": "markdown",
   "metadata": {},
   "source": [
    "x축을 '신고년도' y축을 '물건금액'으로 하는 막대그래프를 이용하여 데이터를 시각화 하였다."
   ]
  },
  {
   "cell_type": "code",
   "execution_count": 12,
   "metadata": {},
   "outputs": [
    {
     "data": {
      "image/png": "[encoded data removed]",
      "text/plain": [
       "<Figure size 1080x360 with 1 Axes>"
      ]
     },
     "metadata": {
      "needs_background": "light"
     },
     "output_type": "display_data"
    }
   ],
   "source": [
    "plt.figure(figsize=(15,5))\n",
    "sns.barplot(x='신고년도', y='물건금액', data=property_all)\n",
    "plt.show()"
   ]
  },
  {
   "cell_type": "markdown",
   "metadata": {},
   "source": [
    "# 연도 별 평균 부동산 금액 상승률 구하기\n",
    "연도 별 평균 부동산 금액 상승률을 구하기 위해, 두 개의 dataframe(prelist, postlist)을 만들었다.\n",
    "이후, for 중첩문을 황용하여 두 개의 dataframe에서 데이터를 추출, 평균 부동산 금액 상승률을 계산하였다. "
   ]
  },
  {
   "cell_type": "code",
   "execution_count": 27,
   "metadata": {},
   "outputs": [
    {
     "name": "stdout",
     "output_type": "stream",
     "text": [
      "[['11.1%'], ['7.9%'], ['13.3%'], ['-7.4%']]\n"
     ]
    }
   ],
   "source": [
    "prelist=[group_gu_all.iloc[0],group_gu_all.iloc[1],group_gu_all.iloc[2],group_gu_all.iloc[3]]\n",
    "postlist=[group_gu_all.iloc[1],group_gu_all.iloc[2],group_gu_all.iloc[3],group_gu_all.iloc[4]]\n",
    "results=[]\n",
    "for x,y in zip(prelist,postlist):\n",
    "    newresult=[]\n",
    "    for i in range(len(group_gu_all.iloc[0])):\n",
    "        pre=x.iloc[i]\n",
    "        post=y.iloc[i]\n",
    "        result=f'{round((post-pre)/pre*100,1)}%'\n",
    "        newresult.append(result)\n",
    "    results.append(newresult)\n",
    "\n",
    "print(results)"
   ]
  },
  {
   "cell_type": "markdown",
   "metadata": {},
   "source": [
    "위에서 구한 연도 별 평균 부동산 금액을 이용하여 새로운 index를 'year'로, columns를 'rate'로 하는 dataframe을 만들었다."
   ]
  },
  {
   "cell_type": "code",
   "execution_count": 35,
   "metadata": {
    "scrolled": false
   },
   "outputs": [
    {
     "data": {
      "text/html": [
       "<div>\n",
       "<style scoped>\n",
       "    .dataframe tbody tr th:only-of-type {\n",
       "        vertical-align: middle;\n",
       "    }\n",
       "\n",
       "    .dataframe tbody tr th {\n",
       "        vertical-align: top;\n",
       "    }\n",
       "\n",
       "    .dataframe thead th {\n",
       "        text-align: right;\n",
       "    }\n",
       "</style>\n",
       "<table border=\"1\" class=\"dataframe\">\n",
       "  <thead>\n",
       "    <tr style=\"text-align: right;\">\n",
       "      <th></th>\n",
       "      <th>부동산 금액 상승률(평균, %)</th>\n",
       "    </tr>\n",
       "  </thead>\n",
       "  <tbody>\n",
       "    <tr>\n",
       "      <th>16-&gt;17년</th>\n",
       "      <td>11.1%</td>\n",
       "    </tr>\n",
       "    <tr>\n",
       "      <th>17-&gt;18년</th>\n",
       "      <td>7.9%</td>\n",
       "    </tr>\n",
       "    <tr>\n",
       "      <th>18-&gt;19년</th>\n",
       "      <td>13.3%</td>\n",
       "    </tr>\n",
       "    <tr>\n",
       "      <th>19-&gt;20년</th>\n",
       "      <td>-7.4%</td>\n",
       "    </tr>\n",
       "  </tbody>\n",
       "</table>\n",
       "</div>"
      ],
      "text/plain": [
       "        부동산 금액 상승률(평균, %)\n",
       "16->17년             11.1%\n",
       "17->18년              7.9%\n",
       "18->19년             13.3%\n",
       "19->20년             -7.4%"
      ]
     },
     "execution_count": 35,
     "metadata": {},
     "output_type": "execute_result"
    }
   ],
   "source": [
    "rate=['부동산 금액 상승률(평균, %)']\n",
    "year=['16->17년','17->18년','18->19년','19->20년']\n",
    "gu_rate=pd.DataFrame(results,index=year, columns=rate)\n",
    "gu_rate"
   ]
  },
  {
   "cell_type": "markdown",
   "metadata": {},
   "source": [
    "# 연도 별 자치구, 건물주용도, 부동산 물건금액 확인하기"
   ]
  },
  {
   "cell_type": "markdown",
   "metadata": {},
   "source": [
    "서울시 공공데이터에서 얻은 2016년부터 2020년까지 부동산 자료를 필요한 부분만 불러왔고, 잘 수행되었는지 첫 5개의 데이터 출력을 통해 확인했다."
   ]
  },
  {
   "cell_type": "code",
   "execution_count": 2,
   "metadata": {},
   "outputs": [
    {
     "data": {
      "text/html": [
       "<div>\n",
       "<style scoped>\n",
       "    .dataframe tbody tr th:only-of-type {\n",
       "        vertical-align: middle;\n",
       "    }\n",
       "\n",
       "    .dataframe tbody tr th {\n",
       "        vertical-align: top;\n",
       "    }\n",
       "\n",
       "    .dataframe thead th {\n",
       "        text-align: right;\n",
       "    }\n",
       "</style>\n",
       "<table border=\"1\" class=\"dataframe\">\n",
       "  <thead>\n",
       "    <tr style=\"text-align: right;\">\n",
       "      <th></th>\n",
       "      <th>자치구명</th>\n",
       "      <th>신고년도</th>\n",
       "      <th>건물주용도</th>\n",
       "      <th>물건금액</th>\n",
       "    </tr>\n",
       "  </thead>\n",
       "  <tbody>\n",
       "    <tr>\n",
       "      <th>0</th>\n",
       "      <td>중랑구</td>\n",
       "      <td>2016</td>\n",
       "      <td>단독주택</td>\n",
       "      <td>352000000</td>\n",
       "    </tr>\n",
       "    <tr>\n",
       "      <th>1</th>\n",
       "      <td>영등포구</td>\n",
       "      <td>2016</td>\n",
       "      <td>아파트</td>\n",
       "      <td>450000000</td>\n",
       "    </tr>\n",
       "    <tr>\n",
       "      <th>2</th>\n",
       "      <td>동작구</td>\n",
       "      <td>2016</td>\n",
       "      <td>단독주택</td>\n",
       "      <td>874000000</td>\n",
       "    </tr>\n",
       "    <tr>\n",
       "      <th>3</th>\n",
       "      <td>영등포구</td>\n",
       "      <td>2016</td>\n",
       "      <td>아파트</td>\n",
       "      <td>500000000</td>\n",
       "    </tr>\n",
       "    <tr>\n",
       "      <th>4</th>\n",
       "      <td>노원구</td>\n",
       "      <td>2016</td>\n",
       "      <td>아파트</td>\n",
       "      <td>241000000</td>\n",
       "    </tr>\n",
       "  </tbody>\n",
       "</table>\n",
       "</div>"
      ],
      "text/plain": [
       "   자치구명  신고년도 건물주용도       물건금액\n",
       "0   중랑구  2016  단독주택  352000000\n",
       "1  영등포구  2016   아파트  450000000\n",
       "2   동작구  2016  단독주택  874000000\n",
       "3  영등포구  2016   아파트  500000000\n",
       "4   노원구  2016   아파트  241000000"
      ]
     },
     "execution_count": 2,
     "metadata": {},
     "output_type": "execute_result"
    }
   ],
   "source": [
    "import pandas as pd\n",
    "property16 = pd.read_csv(r'C:\\data\\Seoul_2016.csv', usecols = [3, 6, 15, 16], encoding='utf-8')\n",
    "property16.head(5)"
   ]
  },
  {
   "cell_type": "code",
   "execution_count": 3,
   "metadata": {},
   "outputs": [
    {
     "data": {
      "text/html": [
       "<div>\n",
       "<style scoped>\n",
       "    .dataframe tbody tr th:only-of-type {\n",
       "        vertical-align: middle;\n",
       "    }\n",
       "\n",
       "    .dataframe tbody tr th {\n",
       "        vertical-align: top;\n",
       "    }\n",
       "\n",
       "    .dataframe thead th {\n",
       "        text-align: right;\n",
       "    }\n",
       "</style>\n",
       "<table border=\"1\" class=\"dataframe\">\n",
       "  <thead>\n",
       "    <tr style=\"text-align: right;\">\n",
       "      <th></th>\n",
       "      <th>자치구명</th>\n",
       "      <th>신고년도</th>\n",
       "      <th>건물주용도</th>\n",
       "      <th>물건금액</th>\n",
       "    </tr>\n",
       "  </thead>\n",
       "  <tbody>\n",
       "    <tr>\n",
       "      <th>0</th>\n",
       "      <td>용산구</td>\n",
       "      <td>2017</td>\n",
       "      <td>아파트</td>\n",
       "      <td>881400000</td>\n",
       "    </tr>\n",
       "    <tr>\n",
       "      <th>1</th>\n",
       "      <td>동대문구</td>\n",
       "      <td>2017</td>\n",
       "      <td>아파트</td>\n",
       "      <td>597000000</td>\n",
       "    </tr>\n",
       "    <tr>\n",
       "      <th>2</th>\n",
       "      <td>동대문구</td>\n",
       "      <td>2017</td>\n",
       "      <td>아파트</td>\n",
       "      <td>480300000</td>\n",
       "    </tr>\n",
       "    <tr>\n",
       "      <th>3</th>\n",
       "      <td>금천구</td>\n",
       "      <td>2017</td>\n",
       "      <td>아파트</td>\n",
       "      <td>548200000</td>\n",
       "    </tr>\n",
       "    <tr>\n",
       "      <th>4</th>\n",
       "      <td>금천구</td>\n",
       "      <td>2017</td>\n",
       "      <td>아파트</td>\n",
       "      <td>500300000</td>\n",
       "    </tr>\n",
       "  </tbody>\n",
       "</table>\n",
       "</div>"
      ],
      "text/plain": [
       "   자치구명  신고년도 건물주용도       물건금액\n",
       "0   용산구  2017   아파트  881400000\n",
       "1  동대문구  2017   아파트  597000000\n",
       "2  동대문구  2017   아파트  480300000\n",
       "3   금천구  2017   아파트  548200000\n",
       "4   금천구  2017   아파트  500300000"
      ]
     },
     "execution_count": 3,
     "metadata": {},
     "output_type": "execute_result"
    }
   ],
   "source": [
    "import pandas as pd\n",
    "property17 = pd.read_csv(r'C:\\data\\Seoul_2017.csv', usecols = [3, 6, 15, 16], encoding='utf-8')\n",
    "property17.head(5)"
   ]
  },
  {
   "cell_type": "code",
   "execution_count": 4,
   "metadata": {},
   "outputs": [
    {
     "data": {
      "text/html": [
       "<div>\n",
       "<style scoped>\n",
       "    .dataframe tbody tr th:only-of-type {\n",
       "        vertical-align: middle;\n",
       "    }\n",
       "\n",
       "    .dataframe tbody tr th {\n",
       "        vertical-align: top;\n",
       "    }\n",
       "\n",
       "    .dataframe thead th {\n",
       "        text-align: right;\n",
       "    }\n",
       "</style>\n",
       "<table border=\"1\" class=\"dataframe\">\n",
       "  <thead>\n",
       "    <tr style=\"text-align: right;\">\n",
       "      <th></th>\n",
       "      <th>자치구명</th>\n",
       "      <th>신고년도</th>\n",
       "      <th>건물주용도</th>\n",
       "      <th>물건금액</th>\n",
       "    </tr>\n",
       "  </thead>\n",
       "  <tbody>\n",
       "    <tr>\n",
       "      <th>0</th>\n",
       "      <td>송파구</td>\n",
       "      <td>2018</td>\n",
       "      <td>아파트</td>\n",
       "      <td>410000000</td>\n",
       "    </tr>\n",
       "    <tr>\n",
       "      <th>1</th>\n",
       "      <td>노원구</td>\n",
       "      <td>2018</td>\n",
       "      <td>아파트</td>\n",
       "      <td>360000000</td>\n",
       "    </tr>\n",
       "    <tr>\n",
       "      <th>2</th>\n",
       "      <td>노원구</td>\n",
       "      <td>2018</td>\n",
       "      <td>아파트</td>\n",
       "      <td>255000000</td>\n",
       "    </tr>\n",
       "    <tr>\n",
       "      <th>3</th>\n",
       "      <td>노원구</td>\n",
       "      <td>2018</td>\n",
       "      <td>아파트</td>\n",
       "      <td>370000000</td>\n",
       "    </tr>\n",
       "    <tr>\n",
       "      <th>4</th>\n",
       "      <td>노원구</td>\n",
       "      <td>2018</td>\n",
       "      <td>아파트</td>\n",
       "      <td>250000000</td>\n",
       "    </tr>\n",
       "  </tbody>\n",
       "</table>\n",
       "</div>"
      ],
      "text/plain": [
       "  자치구명  신고년도 건물주용도       물건금액\n",
       "0  송파구  2018   아파트  410000000\n",
       "1  노원구  2018   아파트  360000000\n",
       "2  노원구  2018   아파트  255000000\n",
       "3  노원구  2018   아파트  370000000\n",
       "4  노원구  2018   아파트  250000000"
      ]
     },
     "execution_count": 4,
     "metadata": {},
     "output_type": "execute_result"
    }
   ],
   "source": [
    "import pandas as pd\n",
    "property18 = pd.read_csv(r'C:\\data\\Seoul_2018.csv', usecols = [3, 6, 15, 16], encoding='utf-8')\n",
    "property18.head(5)"
   ]
  },
  {
   "cell_type": "code",
   "execution_count": 5,
   "metadata": {},
   "outputs": [
    {
     "data": {
      "text/html": [
       "<div>\n",
       "<style scoped>\n",
       "    .dataframe tbody tr th:only-of-type {\n",
       "        vertical-align: middle;\n",
       "    }\n",
       "\n",
       "    .dataframe tbody tr th {\n",
       "        vertical-align: top;\n",
       "    }\n",
       "\n",
       "    .dataframe thead th {\n",
       "        text-align: right;\n",
       "    }\n",
       "</style>\n",
       "<table border=\"1\" class=\"dataframe\">\n",
       "  <thead>\n",
       "    <tr style=\"text-align: right;\">\n",
       "      <th></th>\n",
       "      <th>자치구명</th>\n",
       "      <th>신고년도</th>\n",
       "      <th>건물주용도</th>\n",
       "      <th>물건금액</th>\n",
       "    </tr>\n",
       "  </thead>\n",
       "  <tbody>\n",
       "    <tr>\n",
       "      <th>0</th>\n",
       "      <td>중구</td>\n",
       "      <td>2019</td>\n",
       "      <td>아파트</td>\n",
       "      <td>1390000000</td>\n",
       "    </tr>\n",
       "    <tr>\n",
       "      <th>1</th>\n",
       "      <td>중구</td>\n",
       "      <td>2019</td>\n",
       "      <td>아파트</td>\n",
       "      <td>950000000</td>\n",
       "    </tr>\n",
       "    <tr>\n",
       "      <th>2</th>\n",
       "      <td>중구</td>\n",
       "      <td>2019</td>\n",
       "      <td>아파트</td>\n",
       "      <td>1345000000</td>\n",
       "    </tr>\n",
       "    <tr>\n",
       "      <th>3</th>\n",
       "      <td>중구</td>\n",
       "      <td>2019</td>\n",
       "      <td>아파트</td>\n",
       "      <td>1138000000</td>\n",
       "    </tr>\n",
       "    <tr>\n",
       "      <th>4</th>\n",
       "      <td>중구</td>\n",
       "      <td>2019</td>\n",
       "      <td>아파트</td>\n",
       "      <td>785000000</td>\n",
       "    </tr>\n",
       "  </tbody>\n",
       "</table>\n",
       "</div>"
      ],
      "text/plain": [
       "  자치구명  신고년도 건물주용도        물건금액\n",
       "0   중구  2019   아파트  1390000000\n",
       "1   중구  2019   아파트   950000000\n",
       "2   중구  2019   아파트  1345000000\n",
       "3   중구  2019   아파트  1138000000\n",
       "4   중구  2019   아파트   785000000"
      ]
     },
     "execution_count": 5,
     "metadata": {},
     "output_type": "execute_result"
    }
   ],
   "source": [
    "import pandas as pd\n",
    "property19 = pd.read_csv(r'C:\\data\\Seoul_2019.csv', usecols = [3, 6, 15, 16], encoding='utf-8')\n",
    "property19.head(5)"
   ]
  },
  {
   "cell_type": "code",
   "execution_count": 6,
   "metadata": {
    "scrolled": false
   },
   "outputs": [
    {
     "data": {
      "text/html": [
       "<div>\n",
       "<style scoped>\n",
       "    .dataframe tbody tr th:only-of-type {\n",
       "        vertical-align: middle;\n",
       "    }\n",
       "\n",
       "    .dataframe tbody tr th {\n",
       "        vertical-align: top;\n",
       "    }\n",
       "\n",
       "    .dataframe thead th {\n",
       "        text-align: right;\n",
       "    }\n",
       "</style>\n",
       "<table border=\"1\" class=\"dataframe\">\n",
       "  <thead>\n",
       "    <tr style=\"text-align: right;\">\n",
       "      <th></th>\n",
       "      <th>자치구명</th>\n",
       "      <th>신고년도</th>\n",
       "      <th>건물주용도</th>\n",
       "      <th>물건금액</th>\n",
       "    </tr>\n",
       "  </thead>\n",
       "  <tbody>\n",
       "    <tr>\n",
       "      <th>0</th>\n",
       "      <td>종로구</td>\n",
       "      <td>2020</td>\n",
       "      <td>연립주택</td>\n",
       "      <td>200000000</td>\n",
       "    </tr>\n",
       "    <tr>\n",
       "      <th>1</th>\n",
       "      <td>종로구</td>\n",
       "      <td>2020</td>\n",
       "      <td>연립주택</td>\n",
       "      <td>119000000</td>\n",
       "    </tr>\n",
       "    <tr>\n",
       "      <th>2</th>\n",
       "      <td>종로구</td>\n",
       "      <td>2020</td>\n",
       "      <td>아파트</td>\n",
       "      <td>890000000</td>\n",
       "    </tr>\n",
       "    <tr>\n",
       "      <th>3</th>\n",
       "      <td>종로구</td>\n",
       "      <td>2020</td>\n",
       "      <td>아파트</td>\n",
       "      <td>330000000</td>\n",
       "    </tr>\n",
       "    <tr>\n",
       "      <th>4</th>\n",
       "      <td>종로구</td>\n",
       "      <td>2020</td>\n",
       "      <td>연립주택</td>\n",
       "      <td>127000000</td>\n",
       "    </tr>\n",
       "  </tbody>\n",
       "</table>\n",
       "</div>"
      ],
      "text/plain": [
       "  자치구명  신고년도 건물주용도       물건금액\n",
       "0  종로구  2020  연립주택  200000000\n",
       "1  종로구  2020  연립주택  119000000\n",
       "2  종로구  2020   아파트  890000000\n",
       "3  종로구  2020   아파트  330000000\n",
       "4  종로구  2020  연립주택  127000000"
      ]
     },
     "execution_count": 6,
     "metadata": {},
     "output_type": "execute_result"
    }
   ],
   "source": [
    "import pandas as pd\n",
    "property20= pd.read_csv(r'C:\\data\\Seoul_2020.csv', usecols = [3, 6, 15, 16], encoding='euc-kr')\n",
    "property20.head(5)"
   ]
  },
  {
   "cell_type": "markdown",
   "metadata": {},
   "source": [
    "# 전체 자료에 대한 구별,건물주용도별 물건금액평균"
   ]
  },
  {
   "cell_type": "markdown",
   "metadata": {},
   "source": [
    "2016년부터 2020년까지의 데이터를 별다른 조작없이 합쳤다."
   ]
  },
  {
   "cell_type": "code",
   "execution_count": 7,
   "metadata": {},
   "outputs": [
    {
     "data": {
      "text/html": [
       "<div>\n",
       "<style scoped>\n",
       "    .dataframe tbody tr th:only-of-type {\n",
       "        vertical-align: middle;\n",
       "    }\n",
       "\n",
       "    .dataframe tbody tr th {\n",
       "        vertical-align: top;\n",
       "    }\n",
       "\n",
       "    .dataframe thead th {\n",
       "        text-align: right;\n",
       "    }\n",
       "</style>\n",
       "<table border=\"1\" class=\"dataframe\">\n",
       "  <thead>\n",
       "    <tr style=\"text-align: right;\">\n",
       "      <th></th>\n",
       "      <th>자치구명</th>\n",
       "      <th>신고년도</th>\n",
       "      <th>건물주용도</th>\n",
       "      <th>물건금액</th>\n",
       "    </tr>\n",
       "  </thead>\n",
       "  <tbody>\n",
       "    <tr>\n",
       "      <th>0</th>\n",
       "      <td>중랑구</td>\n",
       "      <td>2016</td>\n",
       "      <td>단독주택</td>\n",
       "      <td>352000000</td>\n",
       "    </tr>\n",
       "    <tr>\n",
       "      <th>1</th>\n",
       "      <td>영등포구</td>\n",
       "      <td>2016</td>\n",
       "      <td>아파트</td>\n",
       "      <td>450000000</td>\n",
       "    </tr>\n",
       "    <tr>\n",
       "      <th>2</th>\n",
       "      <td>동작구</td>\n",
       "      <td>2016</td>\n",
       "      <td>단독주택</td>\n",
       "      <td>874000000</td>\n",
       "    </tr>\n",
       "    <tr>\n",
       "      <th>3</th>\n",
       "      <td>영등포구</td>\n",
       "      <td>2016</td>\n",
       "      <td>아파트</td>\n",
       "      <td>500000000</td>\n",
       "    </tr>\n",
       "    <tr>\n",
       "      <th>4</th>\n",
       "      <td>노원구</td>\n",
       "      <td>2016</td>\n",
       "      <td>아파트</td>\n",
       "      <td>241000000</td>\n",
       "    </tr>\n",
       "    <tr>\n",
       "      <th>...</th>\n",
       "      <td>...</td>\n",
       "      <td>...</td>\n",
       "      <td>...</td>\n",
       "      <td>...</td>\n",
       "    </tr>\n",
       "    <tr>\n",
       "      <th>776358</th>\n",
       "      <td>강동구</td>\n",
       "      <td>2020</td>\n",
       "      <td>아파트</td>\n",
       "      <td>547000000</td>\n",
       "    </tr>\n",
       "    <tr>\n",
       "      <th>776359</th>\n",
       "      <td>강동구</td>\n",
       "      <td>2020</td>\n",
       "      <td>아파트</td>\n",
       "      <td>658000000</td>\n",
       "    </tr>\n",
       "    <tr>\n",
       "      <th>776360</th>\n",
       "      <td>강동구</td>\n",
       "      <td>2020</td>\n",
       "      <td>연립주택</td>\n",
       "      <td>215000000</td>\n",
       "    </tr>\n",
       "    <tr>\n",
       "      <th>776361</th>\n",
       "      <td>관악구</td>\n",
       "      <td>2020</td>\n",
       "      <td>단독주택</td>\n",
       "      <td>455000000</td>\n",
       "    </tr>\n",
       "    <tr>\n",
       "      <th>776362</th>\n",
       "      <td>강남구</td>\n",
       "      <td>2020</td>\n",
       "      <td>단독주택</td>\n",
       "      <td>2777500000</td>\n",
       "    </tr>\n",
       "  </tbody>\n",
       "</table>\n",
       "<p>776363 rows × 4 columns</p>\n",
       "</div>"
      ],
      "text/plain": [
       "        자치구명  신고년도 건물주용도        물건금액\n",
       "0        중랑구  2016  단독주택   352000000\n",
       "1       영등포구  2016   아파트   450000000\n",
       "2        동작구  2016  단독주택   874000000\n",
       "3       영등포구  2016   아파트   500000000\n",
       "4        노원구  2016   아파트   241000000\n",
       "...      ...   ...   ...         ...\n",
       "776358   강동구  2020   아파트   547000000\n",
       "776359   강동구  2020   아파트   658000000\n",
       "776360   강동구  2020  연립주택   215000000\n",
       "776361   관악구  2020  단독주택   455000000\n",
       "776362   강남구  2020  단독주택  2777500000\n",
       "\n",
       "[776363 rows x 4 columns]"
      ]
     },
     "execution_count": 7,
     "metadata": {},
     "output_type": "execute_result"
    }
   ],
   "source": [
    "property_all=pd.concat([property16,property17,property18,property19,property20],ignore_index=True)\n",
    "property_all"
   ]
  },
  {
   "cell_type": "markdown",
   "metadata": {},
   "source": [
    "위의 전체년도 자료를 신고년도와 자치구명을 기준으로 그룹화했고(#1), 신고년도와 건물주용도를 기준으로 그룹화했으며(#2), 신고년도, 자치구, 건물주용도를 순서대로 기준으로 하여 그룹화했다.(#3)"
   ]
  },
  {
   "cell_type": "code",
   "execution_count": 8,
   "metadata": {},
   "outputs": [
    {
     "data": {
      "text/html": [
       "<div>\n",
       "<style scoped>\n",
       "    .dataframe tbody tr th:only-of-type {\n",
       "        vertical-align: middle;\n",
       "    }\n",
       "\n",
       "    .dataframe tbody tr th {\n",
       "        vertical-align: top;\n",
       "    }\n",
       "\n",
       "    .dataframe thead th {\n",
       "        text-align: right;\n",
       "    }\n",
       "</style>\n",
       "<table border=\"1\" class=\"dataframe\">\n",
       "  <thead>\n",
       "    <tr style=\"text-align: right;\">\n",
       "      <th></th>\n",
       "      <th></th>\n",
       "      <th>물건금액</th>\n",
       "    </tr>\n",
       "    <tr>\n",
       "      <th>신고년도</th>\n",
       "      <th>자치구명</th>\n",
       "      <th></th>\n",
       "    </tr>\n",
       "  </thead>\n",
       "  <tbody>\n",
       "    <tr>\n",
       "      <th rowspan=\"5\" valign=\"top\">2016</th>\n",
       "      <th>강남구</th>\n",
       "      <td>917951082</td>\n",
       "    </tr>\n",
       "    <tr>\n",
       "      <th>강동구</th>\n",
       "      <td>459941043</td>\n",
       "    </tr>\n",
       "    <tr>\n",
       "      <th>강북구</th>\n",
       "      <td>288026592</td>\n",
       "    </tr>\n",
       "    <tr>\n",
       "      <th>강서구</th>\n",
       "      <td>340660552</td>\n",
       "    </tr>\n",
       "    <tr>\n",
       "      <th>관악구</th>\n",
       "      <td>353938649</td>\n",
       "    </tr>\n",
       "    <tr>\n",
       "      <th>...</th>\n",
       "      <th>...</th>\n",
       "      <td>...</td>\n",
       "    </tr>\n",
       "    <tr>\n",
       "      <th rowspan=\"5\" valign=\"top\">2020</th>\n",
       "      <th>용산구</th>\n",
       "      <td>1019339473</td>\n",
       "    </tr>\n",
       "    <tr>\n",
       "      <th>은평구</th>\n",
       "      <td>385143879</td>\n",
       "    </tr>\n",
       "    <tr>\n",
       "      <th>종로구</th>\n",
       "      <td>586170108</td>\n",
       "    </tr>\n",
       "    <tr>\n",
       "      <th>중구</th>\n",
       "      <td>685148858</td>\n",
       "    </tr>\n",
       "    <tr>\n",
       "      <th>중랑구</th>\n",
       "      <td>431862951</td>\n",
       "    </tr>\n",
       "  </tbody>\n",
       "</table>\n",
       "<p>125 rows × 1 columns</p>\n",
       "</div>"
      ],
      "text/plain": [
       "                 물건금액\n",
       "신고년도 자치구명            \n",
       "2016 강남구    917951082\n",
       "     강동구    459941043\n",
       "     강북구    288026592\n",
       "     강서구    340660552\n",
       "     관악구    353938649\n",
       "...               ...\n",
       "2020 용산구   1019339473\n",
       "     은평구    385143879\n",
       "     종로구    586170108\n",
       "     중구     685148858\n",
       "     중랑구    431862951\n",
       "\n",
       "[125 rows x 1 columns]"
      ]
     },
     "execution_count": 8,
     "metadata": {},
     "output_type": "execute_result"
    }
   ],
   "source": [
    "#1\n",
    "import matplotlib.pyplot as plt\n",
    "group_gu_all=property_all.groupby(['신고년도','자치구명']).mean().astype(int)\n",
    "group_gu_all"
   ]
  },
  {
   "cell_type": "code",
   "execution_count": 9,
   "metadata": {
    "scrolled": true
   },
   "outputs": [
    {
     "data": {
      "text/html": [
       "<div>\n",
       "<style scoped>\n",
       "    .dataframe tbody tr th:only-of-type {\n",
       "        vertical-align: middle;\n",
       "    }\n",
       "\n",
       "    .dataframe tbody tr th {\n",
       "        vertical-align: top;\n",
       "    }\n",
       "\n",
       "    .dataframe thead th {\n",
       "        text-align: right;\n",
       "    }\n",
       "</style>\n",
       "<table border=\"1\" class=\"dataframe\">\n",
       "  <thead>\n",
       "    <tr style=\"text-align: right;\">\n",
       "      <th></th>\n",
       "      <th></th>\n",
       "      <th>물건금액</th>\n",
       "    </tr>\n",
       "    <tr>\n",
       "      <th>신고년도</th>\n",
       "      <th>건물주용도</th>\n",
       "      <th></th>\n",
       "    </tr>\n",
       "  </thead>\n",
       "  <tbody>\n",
       "    <tr>\n",
       "      <th rowspan=\"4\" valign=\"top\">2016</th>\n",
       "      <th>단독주택</th>\n",
       "      <td>735471243</td>\n",
       "    </tr>\n",
       "    <tr>\n",
       "      <th>아파트</th>\n",
       "      <td>546995122</td>\n",
       "    </tr>\n",
       "    <tr>\n",
       "      <th>연립주택</th>\n",
       "      <td>229561951</td>\n",
       "    </tr>\n",
       "    <tr>\n",
       "      <th>오피스텔</th>\n",
       "      <td>210751829</td>\n",
       "    </tr>\n",
       "    <tr>\n",
       "      <th rowspan=\"4\" valign=\"top\">2017</th>\n",
       "      <th>단독주택</th>\n",
       "      <td>805872554</td>\n",
       "    </tr>\n",
       "    <tr>\n",
       "      <th>아파트</th>\n",
       "      <td>614508830</td>\n",
       "    </tr>\n",
       "    <tr>\n",
       "      <th>연립주택</th>\n",
       "      <td>249151505</td>\n",
       "    </tr>\n",
       "    <tr>\n",
       "      <th>오피스텔</th>\n",
       "      <td>224546862</td>\n",
       "    </tr>\n",
       "    <tr>\n",
       "      <th rowspan=\"4\" valign=\"top\">2018</th>\n",
       "      <th>단독주택</th>\n",
       "      <td>962224445</td>\n",
       "    </tr>\n",
       "    <tr>\n",
       "      <th>아파트</th>\n",
       "      <td>670941801</td>\n",
       "    </tr>\n",
       "    <tr>\n",
       "      <th>연립주택</th>\n",
       "      <td>269019089</td>\n",
       "    </tr>\n",
       "    <tr>\n",
       "      <th>오피스텔</th>\n",
       "      <td>248602785</td>\n",
       "    </tr>\n",
       "    <tr>\n",
       "      <th rowspan=\"4\" valign=\"top\">2019</th>\n",
       "      <th>단독주택</th>\n",
       "      <td>1059295124</td>\n",
       "    </tr>\n",
       "    <tr>\n",
       "      <th>아파트</th>\n",
       "      <td>821789511</td>\n",
       "    </tr>\n",
       "    <tr>\n",
       "      <th>연립주택</th>\n",
       "      <td>274359905</td>\n",
       "    </tr>\n",
       "    <tr>\n",
       "      <th>오피스텔</th>\n",
       "      <td>250700320</td>\n",
       "    </tr>\n",
       "    <tr>\n",
       "      <th rowspan=\"4\" valign=\"top\">2020</th>\n",
       "      <th>단독주택</th>\n",
       "      <td>1099598079</td>\n",
       "    </tr>\n",
       "    <tr>\n",
       "      <th>아파트</th>\n",
       "      <td>741247052</td>\n",
       "    </tr>\n",
       "    <tr>\n",
       "      <th>연립주택</th>\n",
       "      <td>279951618</td>\n",
       "    </tr>\n",
       "    <tr>\n",
       "      <th>오피스텔</th>\n",
       "      <td>255299970</td>\n",
       "    </tr>\n",
       "  </tbody>\n",
       "</table>\n",
       "</div>"
      ],
      "text/plain": [
       "                  물건금액\n",
       "신고년도 건물주용도            \n",
       "2016 단독주택    735471243\n",
       "     아파트     546995122\n",
       "     연립주택    229561951\n",
       "     오피스텔    210751829\n",
       "2017 단독주택    805872554\n",
       "     아파트     614508830\n",
       "     연립주택    249151505\n",
       "     오피스텔    224546862\n",
       "2018 단독주택    962224445\n",
       "     아파트     670941801\n",
       "     연립주택    269019089\n",
       "     오피스텔    248602785\n",
       "2019 단독주택   1059295124\n",
       "     아파트     821789511\n",
       "     연립주택    274359905\n",
       "     오피스텔    250700320\n",
       "2020 단독주택   1099598079\n",
       "     아파트     741247052\n",
       "     연립주택    279951618\n",
       "     오피스텔    255299970"
      ]
     },
     "execution_count": 9,
     "metadata": {},
     "output_type": "execute_result"
    }
   ],
   "source": [
    "#2\n",
    "import matplotlib.pyplot as plt\n",
    "group_use_all=property_all.groupby(['신고년도','건물주용도']).mean().astype(int)\n",
    "group_use_all"
   ]
  },
  {
   "cell_type": "code",
   "execution_count": 10,
   "metadata": {},
   "outputs": [
    {
     "data": {
      "text/html": [
       "<div>\n",
       "<style scoped>\n",
       "    .dataframe tbody tr th:only-of-type {\n",
       "        vertical-align: middle;\n",
       "    }\n",
       "\n",
       "    .dataframe tbody tr th {\n",
       "        vertical-align: top;\n",
       "    }\n",
       "\n",
       "    .dataframe thead th {\n",
       "        text-align: right;\n",
       "    }\n",
       "</style>\n",
       "<table border=\"1\" class=\"dataframe\">\n",
       "  <thead>\n",
       "    <tr style=\"text-align: right;\">\n",
       "      <th></th>\n",
       "      <th></th>\n",
       "      <th></th>\n",
       "      <th>물건금액</th>\n",
       "    </tr>\n",
       "    <tr>\n",
       "      <th>신고년도</th>\n",
       "      <th>자치구명</th>\n",
       "      <th>건물주용도</th>\n",
       "      <th></th>\n",
       "    </tr>\n",
       "  </thead>\n",
       "  <tbody>\n",
       "    <tr>\n",
       "      <th rowspan=\"5\" valign=\"top\">2016</th>\n",
       "      <th rowspan=\"4\" valign=\"top\">강남구</th>\n",
       "      <th>단독주택</th>\n",
       "      <td>-2147483648</td>\n",
       "    </tr>\n",
       "    <tr>\n",
       "      <th>아파트</th>\n",
       "      <td>1077284592</td>\n",
       "    </tr>\n",
       "    <tr>\n",
       "      <th>연립주택</th>\n",
       "      <td>462788061</td>\n",
       "    </tr>\n",
       "    <tr>\n",
       "      <th>오피스텔</th>\n",
       "      <td>288958268</td>\n",
       "    </tr>\n",
       "    <tr>\n",
       "      <th>강동구</th>\n",
       "      <th>단독주택</th>\n",
       "      <td>935788245</td>\n",
       "    </tr>\n",
       "    <tr>\n",
       "      <th>...</th>\n",
       "      <th>...</th>\n",
       "      <th>...</th>\n",
       "      <td>...</td>\n",
       "    </tr>\n",
       "    <tr>\n",
       "      <th rowspan=\"5\" valign=\"top\">2020</th>\n",
       "      <th>중구</th>\n",
       "      <th>오피스텔</th>\n",
       "      <td>291791946</td>\n",
       "    </tr>\n",
       "    <tr>\n",
       "      <th rowspan=\"4\" valign=\"top\">중랑구</th>\n",
       "      <th>단독주택</th>\n",
       "      <td>812986624</td>\n",
       "    </tr>\n",
       "    <tr>\n",
       "      <th>아파트</th>\n",
       "      <td>474756780</td>\n",
       "    </tr>\n",
       "    <tr>\n",
       "      <th>연립주택</th>\n",
       "      <td>235388085</td>\n",
       "    </tr>\n",
       "    <tr>\n",
       "      <th>오피스텔</th>\n",
       "      <td>191105517</td>\n",
       "    </tr>\n",
       "  </tbody>\n",
       "</table>\n",
       "<p>500 rows × 1 columns</p>\n",
       "</div>"
      ],
      "text/plain": [
       "                       물건금액\n",
       "신고년도 자치구명 건물주용도            \n",
       "2016 강남구  단독주택  -2147483648\n",
       "          아파트    1077284592\n",
       "          연립주택    462788061\n",
       "          오피스텔    288958268\n",
       "     강동구  단독주택    935788245\n",
       "...                     ...\n",
       "2020 중구   오피스텔    291791946\n",
       "     중랑구  단독주택    812986624\n",
       "          아파트     474756780\n",
       "          연립주택    235388085\n",
       "          오피스텔    191105517\n",
       "\n",
       "[500 rows x 1 columns]"
      ]
     },
     "execution_count": 10,
     "metadata": {},
     "output_type": "execute_result"
    }
   ],
   "source": [
    "#3\n",
    "import matplotlib.pyplot as plt\n",
    "group_gu_use_all=property_all.groupby(['신고년도','자치구명','건물주용도']).mean().astype(int)\n",
    "group_gu_use_all"
   ]
  },
  {
   "cell_type": "markdown",
   "metadata": {},
   "source": [
    "데이터의 수가 많아 dataframe으로 나타낸 경우 전체를 한눈에 볼 수 없었다. 따라서 이를 seaborn 모듈을 사용해 시각화했다. 자치구별 연도에 따른 물건금액 변화와 건물용도별 연도에 따른 물건금액 변화를 각각 막대그래프로 표현했다."
   ]
  },
  {
   "cell_type": "code",
   "execution_count": 12,
   "metadata": {},
   "outputs": [
    {
     "data": {
      "image/png": "[encoded data removed]",
      "text/plain": [
       "<Figure size 1080x360 with 1 Axes>"
      ]
     },
     "metadata": {
      "needs_background": "light"
     },
     "output_type": "display_data"
    }
   ],
   "source": [
    "import seaborn as sns\n",
    "plt.figure(figsize=(15,5))\n",
    "sns.barplot(x='자치구명', y='물건금액', hue='신고년도', data=property_all)\n",
    "plt.show()"
   ]
  },
  {
   "cell_type": "code",
   "execution_count": 13,
   "metadata": {},
   "outputs": [
    {
     "data": {
      "image/png": "[encoded data removed]",
      "text/plain": [
       "<Figure size 1080x360 with 1 Axes>"
      ]
     },
     "metadata": {
      "needs_background": "light"
     },
     "output_type": "display_data"
    }
   ],
   "source": [
    "plt.figure(figsize=(15,5))\n",
    "sns.barplot(x='건물주용도', y='물건금액', hue='신고년도', data=property_all)\n",
    "plt.show()"
   ]
  },
  {
   "cell_type": "markdown",
   "metadata": {},
   "source": [
    "# 자치구별 물건금액 상승률"
   ]
  },
  {
   "cell_type": "markdown",
   "metadata": {},
   "source": [
    "우선 자치구별 물건금액 상승률을 연도별로 구해 dataframe으로 만들고, 이를 히트맵으로 시각화했다. 히트맵의 색 차이를 통해 연도별 상승률을 효과적으로 비교할 수 있어서 해당 방법을 선택했다."
   ]
  },
  {
   "cell_type": "code",
   "execution_count": 11,
   "metadata": {},
   "outputs": [
    {
     "name": "stdout",
     "output_type": "stream",
     "text": [
      "[[16.868, 13.708, 6.723, 4.191, 10.569, 6.34, 6.385, 1.344, 8.022, 6.746, 7.447, 8.264, 12.5, 6.515, 10.046, 14.384, 7.475, 10.071, 10.78, 12.613, 10.032, 6.362, 0.577, 4.405, 4.434], [11.826, 5.64, 8.607, 10.865, 14.496, 17.001, 10.549, 7.574, 13.334, 10.0, 12.066, 12.741, 12.182, 14.359, 13.296, 18.086, 5.74, 10.223, 8.801, 13.577, 8.714, 12.878, 15.457, 8.507, 13.459], [20.366, 13.669, -0.622, -1.071, 0.649, -0.56, 7.706, -2.837, 10.082, 2.594, 9.218, 16.191, 8.61, 10.216, 14.02, 18.296, 10.126, 22.354, 18.112, 12.112, 10.898, 2.641, 5.808, 15.589, 0.692], [-8.484, -7.368, 8.615, 7.88, 6.521, -3.081, 7.626, 4.501, 9.122, 13.34, 6.447, 0.537, 1.284, 2.511, -10.549, 6.978, 6.274, -10.385, -15.725, -2.099, -1.674, 4.081, -2.798, -2.193, 5.881]]\n"
     ]
    }
   ],
   "source": [
    "#연도별 부동산 자료를 자치구명으로 그룹화해 새로운 변수에 저장\n",
    "group_gu_16=property16.groupby(['자치구명']).mean().astype(int)\n",
    "group_gu_17=property17.groupby(['자치구명']).mean().astype(int)\n",
    "group_gu_18=property18.groupby(['자치구명']).mean().astype(int)\n",
    "group_gu_19=property19.groupby(['자치구명']).mean().astype(int)\n",
    "group_gu_20=property20.groupby(['자치구명']).mean().astype(int)\n",
    "\n",
    "#for 중첩문을 활용해 연도별 금액상승률을 같은 구끼리 매칭해 계산(각 데이터의 구별 순서는 같음)\n",
    "prelist=[group_gu_16,group_gu_17,group_gu_18,group_gu_19]\n",
    "postlist=[group_gu_17,group_gu_18,group_gu_19,group_gu_20]\n",
    "results=[]\n",
    "for x,y in zip(prelist,postlist):\n",
    "    newresult=[]\n",
    "    for i in range(len(group_gu_16)):\n",
    "        pre=x.iloc[i]\n",
    "        post=y.iloc[i]\n",
    "        result=round((post-pre)/pre*100,3)\n",
    "        newresult.append(result[1])\n",
    "    results.append(newresult)\n",
    "\n",
    "print(results)"
   ]
  },
  {
   "cell_type": "code",
   "execution_count": 14,
   "metadata": {},
   "outputs": [
    {
     "data": {
      "text/html": [
       "<div>\n",
       "<style scoped>\n",
       "    .dataframe tbody tr th:only-of-type {\n",
       "        vertical-align: middle;\n",
       "    }\n",
       "\n",
       "    .dataframe tbody tr th {\n",
       "        vertical-align: top;\n",
       "    }\n",
       "\n",
       "    .dataframe thead th {\n",
       "        text-align: right;\n",
       "    }\n",
       "</style>\n",
       "<table border=\"1\" class=\"dataframe\">\n",
       "  <thead>\n",
       "    <tr style=\"text-align: right;\">\n",
       "      <th></th>\n",
       "      <th>강남구</th>\n",
       "      <th>강동구</th>\n",
       "      <th>강북구</th>\n",
       "      <th>강서구</th>\n",
       "      <th>관악구</th>\n",
       "      <th>광진구</th>\n",
       "      <th>구로구</th>\n",
       "      <th>금천구</th>\n",
       "      <th>노원구</th>\n",
       "      <th>도봉구</th>\n",
       "      <th>...</th>\n",
       "      <th>성동구</th>\n",
       "      <th>성북구</th>\n",
       "      <th>송파구</th>\n",
       "      <th>양천구</th>\n",
       "      <th>영등포구</th>\n",
       "      <th>용산구</th>\n",
       "      <th>은평구</th>\n",
       "      <th>종로구</th>\n",
       "      <th>중구</th>\n",
       "      <th>중랑구</th>\n",
       "    </tr>\n",
       "  </thead>\n",
       "  <tbody>\n",
       "    <tr>\n",
       "      <th>16-&gt;17</th>\n",
       "      <td>16.868</td>\n",
       "      <td>13.708</td>\n",
       "      <td>6.723</td>\n",
       "      <td>4.191</td>\n",
       "      <td>10.569</td>\n",
       "      <td>6.340</td>\n",
       "      <td>6.385</td>\n",
       "      <td>1.344</td>\n",
       "      <td>8.022</td>\n",
       "      <td>6.746</td>\n",
       "      <td>...</td>\n",
       "      <td>14.384</td>\n",
       "      <td>7.475</td>\n",
       "      <td>10.071</td>\n",
       "      <td>10.780</td>\n",
       "      <td>12.613</td>\n",
       "      <td>10.032</td>\n",
       "      <td>6.362</td>\n",
       "      <td>0.577</td>\n",
       "      <td>4.405</td>\n",
       "      <td>4.434</td>\n",
       "    </tr>\n",
       "    <tr>\n",
       "      <th>17-&gt;18</th>\n",
       "      <td>11.826</td>\n",
       "      <td>5.640</td>\n",
       "      <td>8.607</td>\n",
       "      <td>10.865</td>\n",
       "      <td>14.496</td>\n",
       "      <td>17.001</td>\n",
       "      <td>10.549</td>\n",
       "      <td>7.574</td>\n",
       "      <td>13.334</td>\n",
       "      <td>10.000</td>\n",
       "      <td>...</td>\n",
       "      <td>18.086</td>\n",
       "      <td>5.740</td>\n",
       "      <td>10.223</td>\n",
       "      <td>8.801</td>\n",
       "      <td>13.577</td>\n",
       "      <td>8.714</td>\n",
       "      <td>12.878</td>\n",
       "      <td>15.457</td>\n",
       "      <td>8.507</td>\n",
       "      <td>13.459</td>\n",
       "    </tr>\n",
       "    <tr>\n",
       "      <th>18-&gt;19</th>\n",
       "      <td>20.366</td>\n",
       "      <td>13.669</td>\n",
       "      <td>-0.622</td>\n",
       "      <td>-1.071</td>\n",
       "      <td>0.649</td>\n",
       "      <td>-0.560</td>\n",
       "      <td>7.706</td>\n",
       "      <td>-2.837</td>\n",
       "      <td>10.082</td>\n",
       "      <td>2.594</td>\n",
       "      <td>...</td>\n",
       "      <td>18.296</td>\n",
       "      <td>10.126</td>\n",
       "      <td>22.354</td>\n",
       "      <td>18.112</td>\n",
       "      <td>12.112</td>\n",
       "      <td>10.898</td>\n",
       "      <td>2.641</td>\n",
       "      <td>5.808</td>\n",
       "      <td>15.589</td>\n",
       "      <td>0.692</td>\n",
       "    </tr>\n",
       "    <tr>\n",
       "      <th>19-&gt;20</th>\n",
       "      <td>-8.484</td>\n",
       "      <td>-7.368</td>\n",
       "      <td>8.615</td>\n",
       "      <td>7.880</td>\n",
       "      <td>6.521</td>\n",
       "      <td>-3.081</td>\n",
       "      <td>7.626</td>\n",
       "      <td>4.501</td>\n",
       "      <td>9.122</td>\n",
       "      <td>13.340</td>\n",
       "      <td>...</td>\n",
       "      <td>6.978</td>\n",
       "      <td>6.274</td>\n",
       "      <td>-10.385</td>\n",
       "      <td>-15.725</td>\n",
       "      <td>-2.099</td>\n",
       "      <td>-1.674</td>\n",
       "      <td>4.081</td>\n",
       "      <td>-2.798</td>\n",
       "      <td>-2.193</td>\n",
       "      <td>5.881</td>\n",
       "    </tr>\n",
       "  </tbody>\n",
       "</table>\n",
       "<p>4 rows × 25 columns</p>\n",
       "</div>"
      ],
      "text/plain": [
       "           강남구     강동구    강북구     강서구     관악구     광진구     구로구    금천구     노원구  \\\n",
       "16->17  16.868  13.708  6.723   4.191  10.569   6.340   6.385  1.344   8.022   \n",
       "17->18  11.826   5.640  8.607  10.865  14.496  17.001  10.549  7.574  13.334   \n",
       "18->19  20.366  13.669 -0.622  -1.071   0.649  -0.560   7.706 -2.837  10.082   \n",
       "19->20  -8.484  -7.368  8.615   7.880   6.521  -3.081   7.626  4.501   9.122   \n",
       "\n",
       "           도봉구  ...     성동구     성북구     송파구     양천구    영등포구     용산구     은평구  \\\n",
       "16->17   6.746  ...  14.384   7.475  10.071  10.780  12.613  10.032   6.362   \n",
       "17->18  10.000  ...  18.086   5.740  10.223   8.801  13.577   8.714  12.878   \n",
       "18->19   2.594  ...  18.296  10.126  22.354  18.112  12.112  10.898   2.641   \n",
       "19->20  13.340  ...   6.978   6.274 -10.385 -15.725  -2.099  -1.674   4.081   \n",
       "\n",
       "           종로구      중구     중랑구  \n",
       "16->17   0.577   4.405   4.434  \n",
       "17->18  15.457   8.507  13.459  \n",
       "18->19   5.808  15.589   0.692  \n",
       "19->20  -2.798  -2.193   5.881  \n",
       "\n",
       "[4 rows x 25 columns]"
      ]
     },
     "execution_count": 14,
     "metadata": {},
     "output_type": "execute_result"
    }
   ],
   "source": [
    "#list에 저장해둔 상승률들을 dataframe으로 정리\n",
    "import pandas as pd\n",
    "gu_names=['강남구', '강동구', '강북구', '강서구', '관악구', '광진구', '구로구', '금천구', '노원구', '도봉구', '동대문구', '동작구', '마포구', '서대문구', '서초구', '성동구', '성북구', '송파구', '양천구', '영등포구', '용산구', '은평구', '종로구', '중구', '중랑구']\n",
    "year=['16->17','17->18','18->19','19->20']\n",
    "gu_rate=pd.DataFrame(results,index=year, columns=gu_names)\n",
    "gu_rate"
   ]
  },
  {
   "cell_type": "code",
   "execution_count": 15,
   "metadata": {},
   "outputs": [
    {
     "data": {
      "text/plain": [
       "<matplotlib.axes._subplots.AxesSubplot at 0x1ede6e858e0>"
      ]
     },
     "execution_count": 15,
     "metadata": {},
     "output_type": "execute_result"
    },
    {
     "data": {
      "image/png": "[encoded data removed]",
      "text/plain": [
       "<Figure size 1080x360 with 2 Axes>"
      ]
     },
     "metadata": {
      "needs_background": "light"
     },
     "output_type": "display_data"
    }
   ],
   "source": [
    "#히트맵 시각화\n",
    "plt.figure(figsize=(15,5))\n",
    "sns.heatmap(gu_rate, annot=True, cmap='YlGnBu')"
   ]
  },
  {
   "cell_type": "markdown",
   "metadata": {},
   "source": [
    "전체적인 상승률을 보기 위해 2016년에서 2020년의 구별 물건금액 상승률을 계산하고 시각화했다. 전반적인 흐름은 위와 동일하게 '상승률 계산해서 list에 저장->dataframe으로 정리->히트맵으로 시각화'이다."
   ]
  },
  {
   "cell_type": "code",
   "execution_count": 16,
   "metadata": {},
   "outputs": [
    {
     "data": {
      "text/plain": [
       "[43.959,\n",
       " 26.481,\n",
       " 25.111,\n",
       " 23.279,\n",
       " 35.727,\n",
       " 19.911,\n",
       " 36.331,\n",
       " 10.694,\n",
       " 47.063,\n",
       " 36.537,\n",
       " 39.99,\n",
       " 42.582,\n",
       " 38.832,\n",
       " 37.625,\n",
       " 27.162,\n",
       " 70.934,\n",
       " 33.003,\n",
       " 33.029,\n",
       " 19.975,\n",
       " 40.384,\n",
       " 30.435,\n",
       " 28.259,\n",
       " 19.429,\n",
       " 28.075,\n",
       " 26.326]"
      ]
     },
     "execution_count": 16,
     "metadata": {},
     "output_type": "execute_result"
    }
   ],
   "source": [
    "result_total=[]\n",
    "for i in range(len(group_gu_16)):\n",
    "    pre=group_gu_16.iloc[i]\n",
    "    post=group_gu_20.iloc[i]\n",
    "    result=round((post-pre)/pre*100,3)\n",
    "    result_total.append(result[1])\n",
    "\n",
    "result_total"
   ]
  },
  {
   "cell_type": "code",
   "execution_count": 17,
   "metadata": {},
   "outputs": [
    {
     "data": {
      "text/html": [
       "<div>\n",
       "<style scoped>\n",
       "    .dataframe tbody tr th:only-of-type {\n",
       "        vertical-align: middle;\n",
       "    }\n",
       "\n",
       "    .dataframe tbody tr th {\n",
       "        vertical-align: top;\n",
       "    }\n",
       "\n",
       "    .dataframe thead th {\n",
       "        text-align: right;\n",
       "    }\n",
       "</style>\n",
       "<table border=\"1\" class=\"dataframe\">\n",
       "  <thead>\n",
       "    <tr style=\"text-align: right;\">\n",
       "      <th></th>\n",
       "      <th>16-&gt;20</th>\n",
       "    </tr>\n",
       "  </thead>\n",
       "  <tbody>\n",
       "    <tr>\n",
       "      <th>강남구</th>\n",
       "      <td>43.959</td>\n",
       "    </tr>\n",
       "    <tr>\n",
       "      <th>강동구</th>\n",
       "      <td>26.481</td>\n",
       "    </tr>\n",
       "    <tr>\n",
       "      <th>강북구</th>\n",
       "      <td>25.111</td>\n",
       "    </tr>\n",
       "    <tr>\n",
       "      <th>강서구</th>\n",
       "      <td>23.279</td>\n",
       "    </tr>\n",
       "    <tr>\n",
       "      <th>관악구</th>\n",
       "      <td>35.727</td>\n",
       "    </tr>\n",
       "    <tr>\n",
       "      <th>광진구</th>\n",
       "      <td>19.911</td>\n",
       "    </tr>\n",
       "    <tr>\n",
       "      <th>구로구</th>\n",
       "      <td>36.331</td>\n",
       "    </tr>\n",
       "    <tr>\n",
       "      <th>금천구</th>\n",
       "      <td>10.694</td>\n",
       "    </tr>\n",
       "    <tr>\n",
       "      <th>노원구</th>\n",
       "      <td>47.063</td>\n",
       "    </tr>\n",
       "    <tr>\n",
       "      <th>도봉구</th>\n",
       "      <td>36.537</td>\n",
       "    </tr>\n",
       "    <tr>\n",
       "      <th>동대문구</th>\n",
       "      <td>39.990</td>\n",
       "    </tr>\n",
       "    <tr>\n",
       "      <th>동작구</th>\n",
       "      <td>42.582</td>\n",
       "    </tr>\n",
       "    <tr>\n",
       "      <th>마포구</th>\n",
       "      <td>38.832</td>\n",
       "    </tr>\n",
       "    <tr>\n",
       "      <th>서대문구</th>\n",
       "      <td>37.625</td>\n",
       "    </tr>\n",
       "    <tr>\n",
       "      <th>서초구</th>\n",
       "      <td>27.162</td>\n",
       "    </tr>\n",
       "    <tr>\n",
       "      <th>성동구</th>\n",
       "      <td>70.934</td>\n",
       "    </tr>\n",
       "    <tr>\n",
       "      <th>성북구</th>\n",
       "      <td>33.003</td>\n",
       "    </tr>\n",
       "    <tr>\n",
       "      <th>송파구</th>\n",
       "      <td>33.029</td>\n",
       "    </tr>\n",
       "    <tr>\n",
       "      <th>양천구</th>\n",
       "      <td>19.975</td>\n",
       "    </tr>\n",
       "    <tr>\n",
       "      <th>영등포구</th>\n",
       "      <td>40.384</td>\n",
       "    </tr>\n",
       "    <tr>\n",
       "      <th>용산구</th>\n",
       "      <td>30.435</td>\n",
       "    </tr>\n",
       "    <tr>\n",
       "      <th>은평구</th>\n",
       "      <td>28.259</td>\n",
       "    </tr>\n",
       "    <tr>\n",
       "      <th>종로구</th>\n",
       "      <td>19.429</td>\n",
       "    </tr>\n",
       "    <tr>\n",
       "      <th>중구</th>\n",
       "      <td>28.075</td>\n",
       "    </tr>\n",
       "    <tr>\n",
       "      <th>중랑구</th>\n",
       "      <td>26.326</td>\n",
       "    </tr>\n",
       "  </tbody>\n",
       "</table>\n",
       "</div>"
      ],
      "text/plain": [
       "      16->20\n",
       "강남구   43.959\n",
       "강동구   26.481\n",
       "강북구   25.111\n",
       "강서구   23.279\n",
       "관악구   35.727\n",
       "광진구   19.911\n",
       "구로구   36.331\n",
       "금천구   10.694\n",
       "노원구   47.063\n",
       "도봉구   36.537\n",
       "동대문구  39.990\n",
       "동작구   42.582\n",
       "마포구   38.832\n",
       "서대문구  37.625\n",
       "서초구   27.162\n",
       "성동구   70.934\n",
       "성북구   33.003\n",
       "송파구   33.029\n",
       "양천구   19.975\n",
       "영등포구  40.384\n",
       "용산구   30.435\n",
       "은평구   28.259\n",
       "종로구   19.429\n",
       "중구    28.075\n",
       "중랑구   26.326"
      ]
     },
     "execution_count": 17,
     "metadata": {},
     "output_type": "execute_result"
    }
   ],
   "source": [
    "import pandas as pd\n",
    "gu_names=['강남구', '강동구', '강북구', '강서구', '관악구', '광진구', '구로구', '금천구', '노원구', '도봉구', '동대문구', '동작구', '마포구', '서대문구', '서초구', '성동구', '성북구', '송파구', '양천구', '영등포구', '용산구', '은평구', '종로구', '중구', '중랑구']\n",
    "year=['16->20']\n",
    "gu_rate_total=pd.DataFrame(result_total,index=gu_names, columns=year)\n",
    "gu_rate_total"
   ]
  },
  {
   "cell_type": "code",
   "execution_count": 18,
   "metadata": {},
   "outputs": [
    {
     "data": {
      "text/plain": [
       "<matplotlib.axes._subplots.AxesSubplot at 0x1edede7d310>"
      ]
     },
     "execution_count": 18,
     "metadata": {},
     "output_type": "execute_result"
    },
    {
     "data": {
      "image/png": "[encoded data removed]",
      "text/plain": [
       "<Figure size 360x1080 with 2 Axes>"
      ]
     },
     "metadata": {
      "needs_background": "light"
     },
     "output_type": "display_data"
    }
   ],
   "source": [
    "plt.figure(figsize=(5,15))\n",
    "sns.heatmap(gu_rate_total, annot=True, cmap='YlGnBu')"
   ]
  },
  {
   "cell_type": "markdown",
   "metadata": {},
   "source": [
    "2020년 자료는 상반기의 신고된 물건금액만 포함하고 있는 것으로 전체 물건금액을 포함하고 있는 기타연도와는 다르다. 따라서 이를 동등한 데이터군으로 여기고 분석하는데에는 한계가 있다고 판단해, 전체적인 흐름을 2016년에서 2019년 물건금액 상승률로 다시 한번 확인하고자 한다. 전반적인 흐름은 위와 동일하게 '상승률 계산해서 list에 저장->dataframe으로 정리->히트맵으로 시각화'이다."
   ]
  },
  {
   "cell_type": "code",
   "execution_count": 19,
   "metadata": {},
   "outputs": [
    {
     "data": {
      "text/plain": [
       "[57.305,\n",
       " 36.54,\n",
       " 15.188,\n",
       " 14.274,\n",
       " 27.419,\n",
       " 23.723,\n",
       " 26.671,\n",
       " 5.927,\n",
       " 34.769,\n",
       " 20.467,\n",
       " 31.512,\n",
       " 41.82,\n",
       " 37.072,\n",
       " 34.254,\n",
       " 42.159,\n",
       " 59.784,\n",
       " 25.151,\n",
       " 48.445,\n",
       " 42.361,\n",
       " 43.394,\n",
       " 32.657,\n",
       " 23.23,\n",
       " 22.867,\n",
       " 30.947,\n",
       " 19.31]"
      ]
     },
     "execution_count": 19,
     "metadata": {},
     "output_type": "execute_result"
    }
   ],
   "source": [
    "result_total_1619=[]\n",
    "for i in range(len(group_gu_16)):\n",
    "    pre=group_gu_16.iloc[i]\n",
    "    post=group_gu_19.iloc[i]\n",
    "    result=round((post-pre)/pre*100,3)\n",
    "    result_total_1619.append(result[1])\n",
    "\n",
    "result_total_1619"
   ]
  },
  {
   "cell_type": "code",
   "execution_count": 20,
   "metadata": {},
   "outputs": [
    {
     "data": {
      "text/html": [
       "<div>\n",
       "<style scoped>\n",
       "    .dataframe tbody tr th:only-of-type {\n",
       "        vertical-align: middle;\n",
       "    }\n",
       "\n",
       "    .dataframe tbody tr th {\n",
       "        vertical-align: top;\n",
       "    }\n",
       "\n",
       "    .dataframe thead th {\n",
       "        text-align: right;\n",
       "    }\n",
       "</style>\n",
       "<table border=\"1\" class=\"dataframe\">\n",
       "  <thead>\n",
       "    <tr style=\"text-align: right;\">\n",
       "      <th></th>\n",
       "      <th>16-&gt;19</th>\n",
       "    </tr>\n",
       "  </thead>\n",
       "  <tbody>\n",
       "    <tr>\n",
       "      <th>강남구</th>\n",
       "      <td>57.305</td>\n",
       "    </tr>\n",
       "    <tr>\n",
       "      <th>강동구</th>\n",
       "      <td>36.540</td>\n",
       "    </tr>\n",
       "    <tr>\n",
       "      <th>강북구</th>\n",
       "      <td>15.188</td>\n",
       "    </tr>\n",
       "    <tr>\n",
       "      <th>강서구</th>\n",
       "      <td>14.274</td>\n",
       "    </tr>\n",
       "    <tr>\n",
       "      <th>관악구</th>\n",
       "      <td>27.419</td>\n",
       "    </tr>\n",
       "    <tr>\n",
       "      <th>광진구</th>\n",
       "      <td>23.723</td>\n",
       "    </tr>\n",
       "    <tr>\n",
       "      <th>구로구</th>\n",
       "      <td>26.671</td>\n",
       "    </tr>\n",
       "    <tr>\n",
       "      <th>금천구</th>\n",
       "      <td>5.927</td>\n",
       "    </tr>\n",
       "    <tr>\n",
       "      <th>노원구</th>\n",
       "      <td>34.769</td>\n",
       "    </tr>\n",
       "    <tr>\n",
       "      <th>도봉구</th>\n",
       "      <td>20.467</td>\n",
       "    </tr>\n",
       "    <tr>\n",
       "      <th>동대문구</th>\n",
       "      <td>31.512</td>\n",
       "    </tr>\n",
       "    <tr>\n",
       "      <th>동작구</th>\n",
       "      <td>41.820</td>\n",
       "    </tr>\n",
       "    <tr>\n",
       "      <th>마포구</th>\n",
       "      <td>37.072</td>\n",
       "    </tr>\n",
       "    <tr>\n",
       "      <th>서대문구</th>\n",
       "      <td>34.254</td>\n",
       "    </tr>\n",
       "    <tr>\n",
       "      <th>서초구</th>\n",
       "      <td>42.159</td>\n",
       "    </tr>\n",
       "    <tr>\n",
       "      <th>성동구</th>\n",
       "      <td>59.784</td>\n",
       "    </tr>\n",
       "    <tr>\n",
       "      <th>성북구</th>\n",
       "      <td>25.151</td>\n",
       "    </tr>\n",
       "    <tr>\n",
       "      <th>송파구</th>\n",
       "      <td>48.445</td>\n",
       "    </tr>\n",
       "    <tr>\n",
       "      <th>양천구</th>\n",
       "      <td>42.361</td>\n",
       "    </tr>\n",
       "    <tr>\n",
       "      <th>영등포구</th>\n",
       "      <td>43.394</td>\n",
       "    </tr>\n",
       "    <tr>\n",
       "      <th>용산구</th>\n",
       "      <td>32.657</td>\n",
       "    </tr>\n",
       "    <tr>\n",
       "      <th>은평구</th>\n",
       "      <td>23.230</td>\n",
       "    </tr>\n",
       "    <tr>\n",
       "      <th>종로구</th>\n",
       "      <td>22.867</td>\n",
       "    </tr>\n",
       "    <tr>\n",
       "      <th>중구</th>\n",
       "      <td>30.947</td>\n",
       "    </tr>\n",
       "    <tr>\n",
       "      <th>중랑구</th>\n",
       "      <td>19.310</td>\n",
       "    </tr>\n",
       "  </tbody>\n",
       "</table>\n",
       "</div>"
      ],
      "text/plain": [
       "      16->19\n",
       "강남구   57.305\n",
       "강동구   36.540\n",
       "강북구   15.188\n",
       "강서구   14.274\n",
       "관악구   27.419\n",
       "광진구   23.723\n",
       "구로구   26.671\n",
       "금천구    5.927\n",
       "노원구   34.769\n",
       "도봉구   20.467\n",
       "동대문구  31.512\n",
       "동작구   41.820\n",
       "마포구   37.072\n",
       "서대문구  34.254\n",
       "서초구   42.159\n",
       "성동구   59.784\n",
       "성북구   25.151\n",
       "송파구   48.445\n",
       "양천구   42.361\n",
       "영등포구  43.394\n",
       "용산구   32.657\n",
       "은평구   23.230\n",
       "종로구   22.867\n",
       "중구    30.947\n",
       "중랑구   19.310"
      ]
     },
     "execution_count": 20,
     "metadata": {},
     "output_type": "execute_result"
    }
   ],
   "source": [
    "import pandas as pd\n",
    "gu_names=['강남구', '강동구', '강북구', '강서구', '관악구', '광진구', '구로구', '금천구', '노원구', '도봉구', '동대문구', '동작구', '마포구', '서대문구', '서초구', '성동구', '성북구', '송파구', '양천구', '영등포구', '용산구', '은평구', '종로구', '중구', '중랑구']\n",
    "year=['16->19']\n",
    "gu_rate_1619=pd.DataFrame(result_total_1619,index=gu_names, columns=year)\n",
    "gu_rate_1619"
   ]
  },
  {
   "cell_type": "code",
   "execution_count": 21,
   "metadata": {},
   "outputs": [
    {
     "data": {
      "text/plain": [
       "<matplotlib.axes._subplots.AxesSubplot at 0x1edeabb4ca0>"
      ]
     },
     "execution_count": 21,
     "metadata": {},
     "output_type": "execute_result"
    },
    {
     "data": {
      "image/png": "[encoded data removed]",
      "text/plain": [
       "<Figure size 360x1080 with 2 Axes>"
      ]
     },
     "metadata": {
      "needs_background": "light"
     },
     "output_type": "display_data"
    }
   ],
   "source": [
    "plt.figure(figsize=(5,15))\n",
    "sns.heatmap(gu_rate_1619, annot=True, cmap='YlGnBu')"
   ]
  },
  {
   "cell_type": "markdown",
   "metadata": {},
   "source": [
    "# 건물주용도별 물건금액 상승률"
   ]
  },
  {
   "cell_type": "markdown",
   "metadata": {},
   "source": [
    "다음으로 건물주용도별 물건금액 상승률을 연도별로 구해 dataframe으로 만들고, 이를 히트맵으로 시각화했다. 흐름은 계속 동일하다."
   ]
  },
  {
   "cell_type": "code",
   "execution_count": 22,
   "metadata": {},
   "outputs": [
    {
     "name": "stdout",
     "output_type": "stream",
     "text": [
      "[[9.572, 12.343, 8.533, 6.546], [19.402, 9.183, 7.974, 10.713], [10.088, 22.483, 1.985, 0.844], [3.805, -9.801, 2.038, 1.835]]\n"
     ]
    }
   ],
   "source": [
    "#연도별 부동산 자료를 사용용도별로 그룹화해 새로운 변수에 저장\n",
    "group_use_16=property16.groupby(['건물주용도']).mean().astype(int)\n",
    "group_use_17=property17.groupby(['건물주용도']).mean().astype(int)\n",
    "group_use_18=property18.groupby(['건물주용도']).mean().astype(int)\n",
    "group_use_19=property19.groupby(['건물주용도']).mean().astype(int)\n",
    "group_use_20=property20.groupby(['건물주용도']).mean().astype(int)\n",
    "\n",
    "#for 중첩문을 활용해 연도별 금액상승률을 같은 건물사용용도끼리 매칭해 계산\n",
    "prelist2=[group_use_16,group_use_17,group_use_18,group_use_19]\n",
    "postlist2=[group_use_17,group_use_18,group_use_19,group_use_20]\n",
    "results2=[]\n",
    "for x,y in zip(prelist2,postlist2):\n",
    "    newresult2=[]\n",
    "    for i in range(len(group_use_16)):\n",
    "        pre=x.iloc[i]\n",
    "        post=y.iloc[i]\n",
    "        result=round((post-pre)/pre*100,3)\n",
    "        newresult2.append(result[1])\n",
    "    results2.append(newresult2)\n",
    "\n",
    "print(results2)"
   ]
  },
  {
   "cell_type": "code",
   "execution_count": 23,
   "metadata": {},
   "outputs": [
    {
     "data": {
      "text/html": [
       "<div>\n",
       "<style scoped>\n",
       "    .dataframe tbody tr th:only-of-type {\n",
       "        vertical-align: middle;\n",
       "    }\n",
       "\n",
       "    .dataframe tbody tr th {\n",
       "        vertical-align: top;\n",
       "    }\n",
       "\n",
       "    .dataframe thead th {\n",
       "        text-align: right;\n",
       "    }\n",
       "</style>\n",
       "<table border=\"1\" class=\"dataframe\">\n",
       "  <thead>\n",
       "    <tr style=\"text-align: right;\">\n",
       "      <th></th>\n",
       "      <th>단독주택</th>\n",
       "      <th>아파트</th>\n",
       "      <th>연립주택</th>\n",
       "      <th>오피스텔</th>\n",
       "    </tr>\n",
       "  </thead>\n",
       "  <tbody>\n",
       "    <tr>\n",
       "      <th>16-&gt;17</th>\n",
       "      <td>9.572</td>\n",
       "      <td>12.343</td>\n",
       "      <td>8.533</td>\n",
       "      <td>6.546</td>\n",
       "    </tr>\n",
       "    <tr>\n",
       "      <th>17-&gt;18</th>\n",
       "      <td>19.402</td>\n",
       "      <td>9.183</td>\n",
       "      <td>7.974</td>\n",
       "      <td>10.713</td>\n",
       "    </tr>\n",
       "    <tr>\n",
       "      <th>18-&gt;19</th>\n",
       "      <td>10.088</td>\n",
       "      <td>22.483</td>\n",
       "      <td>1.985</td>\n",
       "      <td>0.844</td>\n",
       "    </tr>\n",
       "    <tr>\n",
       "      <th>19-&gt;20</th>\n",
       "      <td>3.805</td>\n",
       "      <td>-9.801</td>\n",
       "      <td>2.038</td>\n",
       "      <td>1.835</td>\n",
       "    </tr>\n",
       "  </tbody>\n",
       "</table>\n",
       "</div>"
      ],
      "text/plain": [
       "          단독주택     아파트   연립주택    오피스텔\n",
       "16->17   9.572  12.343  8.533   6.546\n",
       "17->18  19.402   9.183  7.974  10.713\n",
       "18->19  10.088  22.483  1.985   0.844\n",
       "19->20   3.805  -9.801  2.038   1.835"
      ]
     },
     "execution_count": 23,
     "metadata": {},
     "output_type": "execute_result"
    }
   ],
   "source": [
    "import pandas as pd\n",
    "use_names=['단독주택','아파트','연립주택','오피스텔']\n",
    "year=['16->17','17->18','18->19','19->20']\n",
    "use_rate=pd.DataFrame(results2,index=year, columns=use_names)\n",
    "use_rate"
   ]
  },
  {
   "cell_type": "code",
   "execution_count": 24,
   "metadata": {},
   "outputs": [
    {
     "data": {
      "text/plain": [
       "<matplotlib.axes._subplots.AxesSubplot at 0x1edeaac7130>"
      ]
     },
     "execution_count": 24,
     "metadata": {},
     "output_type": "execute_result"
    },
    {
     "data": {
      "image/png": "[encoded data removed]",
      "text/plain": [
       "<Figure size 1080x360 with 2 Axes>"
      ]
     },
     "metadata": {
      "needs_background": "light"
     },
     "output_type": "display_data"
    }
   ],
   "source": [
    "plt.figure(figsize=(15,5))\n",
    "sns.heatmap(use_rate, annot=True, cmap='YlGnBu')"
   ]
  },
  {
   "cell_type": "markdown",
   "metadata": {},
   "source": [
    "전체적인 상승률을 보기 위해 2016년에서 2020년의 건물주용도별 물건금액 상승률을 계산하고 시각화했다."
   ]
  },
  {
   "cell_type": "code",
   "execution_count": 25,
   "metadata": {},
   "outputs": [
    {
     "data": {
      "text/plain": [
       "[49.509, 35.513, 21.95, 21.138]"
      ]
     },
     "execution_count": 25,
     "metadata": {},
     "output_type": "execute_result"
    }
   ],
   "source": [
    "result_total2=[]\n",
    "for i in range(len(group_use_16)):\n",
    "    pre=group_use_16.iloc[i]\n",
    "    post=group_use_20.iloc[i]\n",
    "    result2=round((post-pre)/pre*100,3)\n",
    "    result_total2.append(result2[1])\n",
    "\n",
    "result_total2"
   ]
  },
  {
   "cell_type": "code",
   "execution_count": 26,
   "metadata": {},
   "outputs": [
    {
     "data": {
      "text/html": [
       "<div>\n",
       "<style scoped>\n",
       "    .dataframe tbody tr th:only-of-type {\n",
       "        vertical-align: middle;\n",
       "    }\n",
       "\n",
       "    .dataframe tbody tr th {\n",
       "        vertical-align: top;\n",
       "    }\n",
       "\n",
       "    .dataframe thead th {\n",
       "        text-align: right;\n",
       "    }\n",
       "</style>\n",
       "<table border=\"1\" class=\"dataframe\">\n",
       "  <thead>\n",
       "    <tr style=\"text-align: right;\">\n",
       "      <th></th>\n",
       "      <th>16-&gt;20</th>\n",
       "    </tr>\n",
       "  </thead>\n",
       "  <tbody>\n",
       "    <tr>\n",
       "      <th>단독주택</th>\n",
       "      <td>49.509</td>\n",
       "    </tr>\n",
       "    <tr>\n",
       "      <th>아파트</th>\n",
       "      <td>35.513</td>\n",
       "    </tr>\n",
       "    <tr>\n",
       "      <th>연립주택</th>\n",
       "      <td>21.950</td>\n",
       "    </tr>\n",
       "    <tr>\n",
       "      <th>오피스텔</th>\n",
       "      <td>21.138</td>\n",
       "    </tr>\n",
       "  </tbody>\n",
       "</table>\n",
       "</div>"
      ],
      "text/plain": [
       "      16->20\n",
       "단독주택  49.509\n",
       "아파트   35.513\n",
       "연립주택  21.950\n",
       "오피스텔  21.138"
      ]
     },
     "execution_count": 26,
     "metadata": {},
     "output_type": "execute_result"
    }
   ],
   "source": [
    "import pandas as pd\n",
    "use_names=['단독주택','아파트','연립주택','오피스텔']\n",
    "year=['16->20']\n",
    "use_rate_total=pd.DataFrame(result_total2,index=use_names, columns=year)\n",
    "use_rate_total"
   ]
  },
  {
   "cell_type": "code",
   "execution_count": 27,
   "metadata": {},
   "outputs": [
    {
     "data": {
      "text/plain": [
       "<matplotlib.axes._subplots.AxesSubplot at 0x1edede76940>"
      ]
     },
     "execution_count": 27,
     "metadata": {},
     "output_type": "execute_result"
    },
    {
     "data": {
      "image/png": "[encoded data removed]",
      "text/plain": [
       "<Figure size 360x360 with 2 Axes>"
      ]
     },
     "metadata": {
      "needs_background": "light"
     },
     "output_type": "display_data"
    }
   ],
   "source": [
    "plt.figure(figsize=(5,5))\n",
    "sns.heatmap(use_rate_total, annot=True, cmap='YlGnBu')"
   ]
  },
  {
   "cell_type": "markdown",
   "metadata": {},
   "source": [
    "위의 구별 상승률 계산과 같은 이유로 2020년 자료는 동등한 데이터군으로 여겨 분석하는데에는 한계가 있다고 판단했ㄷ. 따라서 전체적인 양상을 2016년에서 2019년 물건금액 상승률로 다시 한번 확인하고 시각화했다."
   ]
  },
  {
   "cell_type": "code",
   "execution_count": 28,
   "metadata": {},
   "outputs": [
    {
     "data": {
      "text/plain": [
       "[44.029, 50.237, 19.515, 18.955]"
      ]
     },
     "execution_count": 28,
     "metadata": {},
     "output_type": "execute_result"
    }
   ],
   "source": [
    "result_1619_2=[]\n",
    "for i in range(len(group_use_16)):\n",
    "    pre=group_use_16.iloc[i]\n",
    "    post=group_use_19.iloc[i]\n",
    "    result2=round((post-pre)/pre*100,3)\n",
    "    result_1619_2.append(result2[1])\n",
    "\n",
    "result_1619_2"
   ]
  },
  {
   "cell_type": "code",
   "execution_count": 29,
   "metadata": {},
   "outputs": [
    {
     "data": {
      "text/html": [
       "<div>\n",
       "<style scoped>\n",
       "    .dataframe tbody tr th:only-of-type {\n",
       "        vertical-align: middle;\n",
       "    }\n",
       "\n",
       "    .dataframe tbody tr th {\n",
       "        vertical-align: top;\n",
       "    }\n",
       "\n",
       "    .dataframe thead th {\n",
       "        text-align: right;\n",
       "    }\n",
       "</style>\n",
       "<table border=\"1\" class=\"dataframe\">\n",
       "  <thead>\n",
       "    <tr style=\"text-align: right;\">\n",
       "      <th></th>\n",
       "      <th>16-&gt;19</th>\n",
       "    </tr>\n",
       "  </thead>\n",
       "  <tbody>\n",
       "    <tr>\n",
       "      <th>단독주택</th>\n",
       "      <td>44.029</td>\n",
       "    </tr>\n",
       "    <tr>\n",
       "      <th>아파트</th>\n",
       "      <td>50.237</td>\n",
       "    </tr>\n",
       "    <tr>\n",
       "      <th>연립주택</th>\n",
       "      <td>19.515</td>\n",
       "    </tr>\n",
       "    <tr>\n",
       "      <th>오피스텔</th>\n",
       "      <td>18.955</td>\n",
       "    </tr>\n",
       "  </tbody>\n",
       "</table>\n",
       "</div>"
      ],
      "text/plain": [
       "      16->19\n",
       "단독주택  44.029\n",
       "아파트   50.237\n",
       "연립주택  19.515\n",
       "오피스텔  18.955"
      ]
     },
     "execution_count": 29,
     "metadata": {},
     "output_type": "execute_result"
    }
   ],
   "source": [
    "import pandas as pd\n",
    "use_names=['단독주택','아파트','연립주택','오피스텔']\n",
    "year=['16->19']\n",
    "use_rate_1619=pd.DataFrame(result_1619_2,index=use_names, columns=year)\n",
    "use_rate_1619"
   ]
  },
  {
   "cell_type": "code",
   "execution_count": 30,
   "metadata": {},
   "outputs": [
    {
     "data": {
      "text/plain": [
       "<matplotlib.axes._subplots.AxesSubplot at 0x1ede72b6a30>"
      ]
     },
     "execution_count": 30,
     "metadata": {},
     "output_type": "execute_result"
    },
    {
     "data": {
      "image/png": "[encoded data removed]",
      "text/plain": [
       "<Figure size 360x360 with 2 Axes>"
      ]
     },
     "metadata": {
      "needs_background": "light"
     },
     "output_type": "display_data"
    }
   ],
   "source": [
    "plt.figure(figsize=(5,5))\n",
    "sns.heatmap(use_rate_1619, annot=True, cmap='YlGnBu')"
   ]
  },
  {
   "cell_type": "markdown",
   "metadata": {},
   "source": [
    "# 구별+건물주용도별 물건금액"
   ]
  },
  {
   "cell_type": "markdown",
   "metadata": {},
   "source": [
    "마지막으로 전체적인 자치구 및 건물주용도별 물건금액 상승률을 구해 비교해보았다. 우선 필요한 데이터들을 자치구명과 건물주용도 순으로 그룹화해서 새로운 변수에 저장했다. 이후 2016년에서 2020년의 상승률을 구하고, 이와 별개로 좀 더 의미있는 데이터분석을 위해 2016년에서 2019년 상승률을 나타내었다."
   ]
  },
  {
   "cell_type": "code",
   "execution_count": 31,
   "metadata": {},
   "outputs": [],
   "source": [
    "group_gu_use_16=property16.groupby(['자치구명','건물주용도']).mean().astype(int)\n",
    "group_gu_use_19=property19.groupby(['자치구명','건물주용도']).mean().astype(int)\n",
    "group_gu_use_20=property20.groupby(['자치구명','건물주용도']).mean().astype(int)"
   ]
  },
  {
   "cell_type": "markdown",
   "metadata": {},
   "source": [
    "2016년에서 2020년 금액상승률을 계산해 시각화한 부분이다."
   ]
  },
  {
   "cell_type": "code",
   "execution_count": 32,
   "metadata": {},
   "outputs": [
    {
     "data": {
      "text/plain": [
       "[[-0.0, 64.24, 15.801, 19.499],\n",
       " [30.277, 39.052, 21.19, 29.038],\n",
       " [43.675, 41.851, 13.918, 34.647],\n",
       " [44.043, 42.442, 20.024, 29.042],\n",
       " [34.986, 54.543, 23.81, 6.671],\n",
       " [42.734, 59.661, 14.486, -7.7],\n",
       " [26.468, 42.294, 24.238, 33.12],\n",
       " [50.522, 30.196, 24.193, 33.123],\n",
       " [2.945, 51.471, 27.067, 23.912],\n",
       " [16.773, 43.788, 19.273, 14.391],\n",
       " [55.301, 49.125, 42.086, 23.226],\n",
       " [61.881, 55.1, 35.316, 39.909],\n",
       " [80.425, 56.515, 27.623, 16.434],\n",
       " [36.1, 44.68, 46.051, 23.246],\n",
       " [15.422, 45.052, 23.999, 17.088],\n",
       " [164.634, 67.43, 61.704, 30.386],\n",
       " [22.991, 44.657, 26.906, 23.466],\n",
       " [67.407, 64.455, 30.368, 12.482],\n",
       " [39.64, 47.695, 17.258, 60.222],\n",
       " [50.836, 56.754, 30.642, 33.385],\n",
       " [60.349, 49.418, 12.094, 37.209],\n",
       " [36.083, 38.991, 42.418, 45.176],\n",
       " [17.591, 28.766, 12.156, 18.474],\n",
       " [35.208, 34.716, 22.07, 31.857],\n",
       " [39.457, 45.112, 15.698, 36.749]]"
      ]
     },
     "execution_count": 32,
     "metadata": {},
     "output_type": "execute_result"
    }
   ],
   "source": [
    "result_total3=[]\n",
    "for x in range(25):\n",
    "    newresult=[]\n",
    "    for y in range(4):\n",
    "        i=y+4*x\n",
    "        pre=group_gu_use_16.iloc[i]\n",
    "        post=group_gu_use_20.iloc[i]\n",
    "        result3=round((post-pre)/pre*100,3)\n",
    "        newresult.append(result3[1])\n",
    "    result_total3.append(newresult)\n",
    "\n",
    "result_total3"
   ]
  },
  {
   "cell_type": "code",
   "execution_count": 33,
   "metadata": {},
   "outputs": [
    {
     "data": {
      "text/html": [
       "<div>\n",
       "<style scoped>\n",
       "    .dataframe tbody tr th:only-of-type {\n",
       "        vertical-align: middle;\n",
       "    }\n",
       "\n",
       "    .dataframe tbody tr th {\n",
       "        vertical-align: top;\n",
       "    }\n",
       "\n",
       "    .dataframe thead th {\n",
       "        text-align: right;\n",
       "    }\n",
       "</style>\n",
       "<table border=\"1\" class=\"dataframe\">\n",
       "  <thead>\n",
       "    <tr style=\"text-align: right;\">\n",
       "      <th></th>\n",
       "      <th>단독주택</th>\n",
       "      <th>아파트</th>\n",
       "      <th>연립주택</th>\n",
       "      <th>오피스텔</th>\n",
       "    </tr>\n",
       "  </thead>\n",
       "  <tbody>\n",
       "    <tr>\n",
       "      <th>강남구</th>\n",
       "      <td>-0.000</td>\n",
       "      <td>64.240</td>\n",
       "      <td>15.801</td>\n",
       "      <td>19.499</td>\n",
       "    </tr>\n",
       "    <tr>\n",
       "      <th>강동구</th>\n",
       "      <td>30.277</td>\n",
       "      <td>39.052</td>\n",
       "      <td>21.190</td>\n",
       "      <td>29.038</td>\n",
       "    </tr>\n",
       "    <tr>\n",
       "      <th>강북구</th>\n",
       "      <td>43.675</td>\n",
       "      <td>41.851</td>\n",
       "      <td>13.918</td>\n",
       "      <td>34.647</td>\n",
       "    </tr>\n",
       "    <tr>\n",
       "      <th>강서구</th>\n",
       "      <td>44.043</td>\n",
       "      <td>42.442</td>\n",
       "      <td>20.024</td>\n",
       "      <td>29.042</td>\n",
       "    </tr>\n",
       "    <tr>\n",
       "      <th>관악구</th>\n",
       "      <td>34.986</td>\n",
       "      <td>54.543</td>\n",
       "      <td>23.810</td>\n",
       "      <td>6.671</td>\n",
       "    </tr>\n",
       "    <tr>\n",
       "      <th>광진구</th>\n",
       "      <td>42.734</td>\n",
       "      <td>59.661</td>\n",
       "      <td>14.486</td>\n",
       "      <td>-7.700</td>\n",
       "    </tr>\n",
       "    <tr>\n",
       "      <th>구로구</th>\n",
       "      <td>26.468</td>\n",
       "      <td>42.294</td>\n",
       "      <td>24.238</td>\n",
       "      <td>33.120</td>\n",
       "    </tr>\n",
       "    <tr>\n",
       "      <th>금천구</th>\n",
       "      <td>50.522</td>\n",
       "      <td>30.196</td>\n",
       "      <td>24.193</td>\n",
       "      <td>33.123</td>\n",
       "    </tr>\n",
       "    <tr>\n",
       "      <th>노원구</th>\n",
       "      <td>2.945</td>\n",
       "      <td>51.471</td>\n",
       "      <td>27.067</td>\n",
       "      <td>23.912</td>\n",
       "    </tr>\n",
       "    <tr>\n",
       "      <th>도봉구</th>\n",
       "      <td>16.773</td>\n",
       "      <td>43.788</td>\n",
       "      <td>19.273</td>\n",
       "      <td>14.391</td>\n",
       "    </tr>\n",
       "    <tr>\n",
       "      <th>동대문구</th>\n",
       "      <td>55.301</td>\n",
       "      <td>49.125</td>\n",
       "      <td>42.086</td>\n",
       "      <td>23.226</td>\n",
       "    </tr>\n",
       "    <tr>\n",
       "      <th>동작구</th>\n",
       "      <td>61.881</td>\n",
       "      <td>55.100</td>\n",
       "      <td>35.316</td>\n",
       "      <td>39.909</td>\n",
       "    </tr>\n",
       "    <tr>\n",
       "      <th>마포구</th>\n",
       "      <td>80.425</td>\n",
       "      <td>56.515</td>\n",
       "      <td>27.623</td>\n",
       "      <td>16.434</td>\n",
       "    </tr>\n",
       "    <tr>\n",
       "      <th>서대문구</th>\n",
       "      <td>36.100</td>\n",
       "      <td>44.680</td>\n",
       "      <td>46.051</td>\n",
       "      <td>23.246</td>\n",
       "    </tr>\n",
       "    <tr>\n",
       "      <th>서초구</th>\n",
       "      <td>15.422</td>\n",
       "      <td>45.052</td>\n",
       "      <td>23.999</td>\n",
       "      <td>17.088</td>\n",
       "    </tr>\n",
       "    <tr>\n",
       "      <th>성동구</th>\n",
       "      <td>164.634</td>\n",
       "      <td>67.430</td>\n",
       "      <td>61.704</td>\n",
       "      <td>30.386</td>\n",
       "    </tr>\n",
       "    <tr>\n",
       "      <th>성북구</th>\n",
       "      <td>22.991</td>\n",
       "      <td>44.657</td>\n",
       "      <td>26.906</td>\n",
       "      <td>23.466</td>\n",
       "    </tr>\n",
       "    <tr>\n",
       "      <th>송파구</th>\n",
       "      <td>67.407</td>\n",
       "      <td>64.455</td>\n",
       "      <td>30.368</td>\n",
       "      <td>12.482</td>\n",
       "    </tr>\n",
       "    <tr>\n",
       "      <th>양천구</th>\n",
       "      <td>39.640</td>\n",
       "      <td>47.695</td>\n",
       "      <td>17.258</td>\n",
       "      <td>60.222</td>\n",
       "    </tr>\n",
       "    <tr>\n",
       "      <th>영등포구</th>\n",
       "      <td>50.836</td>\n",
       "      <td>56.754</td>\n",
       "      <td>30.642</td>\n",
       "      <td>33.385</td>\n",
       "    </tr>\n",
       "    <tr>\n",
       "      <th>용산구</th>\n",
       "      <td>60.349</td>\n",
       "      <td>49.418</td>\n",
       "      <td>12.094</td>\n",
       "      <td>37.209</td>\n",
       "    </tr>\n",
       "    <tr>\n",
       "      <th>은평구</th>\n",
       "      <td>36.083</td>\n",
       "      <td>38.991</td>\n",
       "      <td>42.418</td>\n",
       "      <td>45.176</td>\n",
       "    </tr>\n",
       "    <tr>\n",
       "      <th>종로구</th>\n",
       "      <td>17.591</td>\n",
       "      <td>28.766</td>\n",
       "      <td>12.156</td>\n",
       "      <td>18.474</td>\n",
       "    </tr>\n",
       "    <tr>\n",
       "      <th>중구</th>\n",
       "      <td>35.208</td>\n",
       "      <td>34.716</td>\n",
       "      <td>22.070</td>\n",
       "      <td>31.857</td>\n",
       "    </tr>\n",
       "    <tr>\n",
       "      <th>중랑구</th>\n",
       "      <td>39.457</td>\n",
       "      <td>45.112</td>\n",
       "      <td>15.698</td>\n",
       "      <td>36.749</td>\n",
       "    </tr>\n",
       "  </tbody>\n",
       "</table>\n",
       "</div>"
      ],
      "text/plain": [
       "         단독주택     아파트    연립주택    오피스텔\n",
       "강남구    -0.000  64.240  15.801  19.499\n",
       "강동구    30.277  39.052  21.190  29.038\n",
       "강북구    43.675  41.851  13.918  34.647\n",
       "강서구    44.043  42.442  20.024  29.042\n",
       "관악구    34.986  54.543  23.810   6.671\n",
       "광진구    42.734  59.661  14.486  -7.700\n",
       "구로구    26.468  42.294  24.238  33.120\n",
       "금천구    50.522  30.196  24.193  33.123\n",
       "노원구     2.945  51.471  27.067  23.912\n",
       "도봉구    16.773  43.788  19.273  14.391\n",
       "동대문구   55.301  49.125  42.086  23.226\n",
       "동작구    61.881  55.100  35.316  39.909\n",
       "마포구    80.425  56.515  27.623  16.434\n",
       "서대문구   36.100  44.680  46.051  23.246\n",
       "서초구    15.422  45.052  23.999  17.088\n",
       "성동구   164.634  67.430  61.704  30.386\n",
       "성북구    22.991  44.657  26.906  23.466\n",
       "송파구    67.407  64.455  30.368  12.482\n",
       "양천구    39.640  47.695  17.258  60.222\n",
       "영등포구   50.836  56.754  30.642  33.385\n",
       "용산구    60.349  49.418  12.094  37.209\n",
       "은평구    36.083  38.991  42.418  45.176\n",
       "종로구    17.591  28.766  12.156  18.474\n",
       "중구     35.208  34.716  22.070  31.857\n",
       "중랑구    39.457  45.112  15.698  36.749"
      ]
     },
     "execution_count": 33,
     "metadata": {},
     "output_type": "execute_result"
    }
   ],
   "source": [
    "gu_names=['강남구', '강동구', '강북구', '강서구', '관악구', '광진구', '구로구', '금천구', '노원구', '도봉구', '동대문구', '동작구', '마포구', '서대문구', '서초구', '성동구', '성북구', '송파구', '양천구', '영등포구', '용산구', '은평구', '종로구', '중구', '중랑구']\n",
    "use_names=['단독주택','아파트','연립주택','오피스텔']\n",
    "gu_use_rate_total=pd.DataFrame(result_total3,index=gu_names, columns=use_names)\n",
    "gu_use_rate_total"
   ]
  },
  {
   "cell_type": "code",
   "execution_count": 34,
   "metadata": {},
   "outputs": [
    {
     "data": {
      "text/plain": [
       "<matplotlib.axes._subplots.AxesSubplot at 0x1edea4d5220>"
      ]
     },
     "execution_count": 34,
     "metadata": {},
     "output_type": "execute_result"
    },
    {
     "data": {
      "image/png": "[encoded data removed]",
      "text/plain": [
       "<Figure size 1080x360 with 2 Axes>"
      ]
     },
     "metadata": {
      "needs_background": "light"
     },
     "output_type": "display_data"
    }
   ],
   "source": [
    "plt.figure(figsize=(15,5))\n",
    "sns.heatmap(gu_use_rate_total, annot=True, cmap='YlGnBu')"
   ]
  },
  {
   "cell_type": "markdown",
   "metadata": {},
   "source": [
    "2016년에서 2019년 금액상승률을 계산해 시각화한 부분이다."
   ]
  },
  {
   "cell_type": "code",
   "execution_count": 35,
   "metadata": {},
   "outputs": [
    {
     "data": {
      "text/plain": [
       "[[-0.0, 66.641, 25.581, 18.885],\n",
       " [49.874, 44.7, 17.802, 17.991],\n",
       " [14.928, 29.755, 20.287, 5.846],\n",
       " [37.817, 38.288, 15.812, 26.066],\n",
       " [35.291, 40.374, 17.057, 28.745],\n",
       " [36.226, 51.659, 10.822, 4.669],\n",
       " [24.361, 41.258, 11.033, 21.096],\n",
       " [31.881, 27.396, 20.289, 14.686],\n",
       " [-3.868, 40.888, 32.504, 8.749],\n",
       " [15.034, 32.744, 12.503, 6.505],\n",
       " [61.939, 35.588, 35.975, 25.876],\n",
       " [54.505, 54.273, 32.988, 26.956],\n",
       " [41.356, 53.343, 20.089, 12.914],\n",
       " [34.585, 40.055, 38.966, 17.601],\n",
       " [15.422, 50.241, 17.159, 13.77],\n",
       " [89.639, 59.538, 53.432, 25.29],\n",
       " [25.824, 37.069, 20.515, 9.259],\n",
       " [53.213, 60.499, 20.539, 18.113],\n",
       " [47.599, 54.626, 23.943, 58.097],\n",
       " [74.678, 55.607, 25.539, 29.032],\n",
       " [45.9, 62.486, 4.628, 16.338],\n",
       " [23.173, 30.089, 31.608, 34.095],\n",
       " [26.788, 35.058, 10.82, 4.816],\n",
       " [71.33, 31.421, 21.611, 25.233],\n",
       " [27.311, 34.433, 15.0, 12.946]]"
      ]
     },
     "execution_count": 35,
     "metadata": {},
     "output_type": "execute_result"
    }
   ],
   "source": [
    "result_1619_3=[]\n",
    "for x in range(25):\n",
    "    newresult=[]\n",
    "    for y in range(4):\n",
    "        i=y+4*x\n",
    "        pre=group_gu_use_16.iloc[i]\n",
    "        post=group_gu_use_19.iloc[i]\n",
    "        result3=round((post-pre)/pre*100,3)\n",
    "        newresult.append(result3[1])\n",
    "    result_1619_3.append(newresult)\n",
    "\n",
    "result_1619_3"
   ]
  },
  {
   "cell_type": "code",
   "execution_count": 36,
   "metadata": {},
   "outputs": [
    {
     "data": {
      "text/html": [
       "<div>\n",
       "<style scoped>\n",
       "    .dataframe tbody tr th:only-of-type {\n",
       "        vertical-align: middle;\n",
       "    }\n",
       "\n",
       "    .dataframe tbody tr th {\n",
       "        vertical-align: top;\n",
       "    }\n",
       "\n",
       "    .dataframe thead th {\n",
       "        text-align: right;\n",
       "    }\n",
       "</style>\n",
       "<table border=\"1\" class=\"dataframe\">\n",
       "  <thead>\n",
       "    <tr style=\"text-align: right;\">\n",
       "      <th></th>\n",
       "      <th>단독주택</th>\n",
       "      <th>아파트</th>\n",
       "      <th>연립주택</th>\n",
       "      <th>오피스텔</th>\n",
       "    </tr>\n",
       "  </thead>\n",
       "  <tbody>\n",
       "    <tr>\n",
       "      <th>강남구</th>\n",
       "      <td>-0.000</td>\n",
       "      <td>66.641</td>\n",
       "      <td>25.581</td>\n",
       "      <td>18.885</td>\n",
       "    </tr>\n",
       "    <tr>\n",
       "      <th>강동구</th>\n",
       "      <td>49.874</td>\n",
       "      <td>44.700</td>\n",
       "      <td>17.802</td>\n",
       "      <td>17.991</td>\n",
       "    </tr>\n",
       "    <tr>\n",
       "      <th>강북구</th>\n",
       "      <td>14.928</td>\n",
       "      <td>29.755</td>\n",
       "      <td>20.287</td>\n",
       "      <td>5.846</td>\n",
       "    </tr>\n",
       "    <tr>\n",
       "      <th>강서구</th>\n",
       "      <td>37.817</td>\n",
       "      <td>38.288</td>\n",
       "      <td>15.812</td>\n",
       "      <td>26.066</td>\n",
       "    </tr>\n",
       "    <tr>\n",
       "      <th>관악구</th>\n",
       "      <td>35.291</td>\n",
       "      <td>40.374</td>\n",
       "      <td>17.057</td>\n",
       "      <td>28.745</td>\n",
       "    </tr>\n",
       "    <tr>\n",
       "      <th>광진구</th>\n",
       "      <td>36.226</td>\n",
       "      <td>51.659</td>\n",
       "      <td>10.822</td>\n",
       "      <td>4.669</td>\n",
       "    </tr>\n",
       "    <tr>\n",
       "      <th>구로구</th>\n",
       "      <td>24.361</td>\n",
       "      <td>41.258</td>\n",
       "      <td>11.033</td>\n",
       "      <td>21.096</td>\n",
       "    </tr>\n",
       "    <tr>\n",
       "      <th>금천구</th>\n",
       "      <td>31.881</td>\n",
       "      <td>27.396</td>\n",
       "      <td>20.289</td>\n",
       "      <td>14.686</td>\n",
       "    </tr>\n",
       "    <tr>\n",
       "      <th>노원구</th>\n",
       "      <td>-3.868</td>\n",
       "      <td>40.888</td>\n",
       "      <td>32.504</td>\n",
       "      <td>8.749</td>\n",
       "    </tr>\n",
       "    <tr>\n",
       "      <th>도봉구</th>\n",
       "      <td>15.034</td>\n",
       "      <td>32.744</td>\n",
       "      <td>12.503</td>\n",
       "      <td>6.505</td>\n",
       "    </tr>\n",
       "    <tr>\n",
       "      <th>동대문구</th>\n",
       "      <td>61.939</td>\n",
       "      <td>35.588</td>\n",
       "      <td>35.975</td>\n",
       "      <td>25.876</td>\n",
       "    </tr>\n",
       "    <tr>\n",
       "      <th>동작구</th>\n",
       "      <td>54.505</td>\n",
       "      <td>54.273</td>\n",
       "      <td>32.988</td>\n",
       "      <td>26.956</td>\n",
       "    </tr>\n",
       "    <tr>\n",
       "      <th>마포구</th>\n",
       "      <td>41.356</td>\n",
       "      <td>53.343</td>\n",
       "      <td>20.089</td>\n",
       "      <td>12.914</td>\n",
       "    </tr>\n",
       "    <tr>\n",
       "      <th>서대문구</th>\n",
       "      <td>34.585</td>\n",
       "      <td>40.055</td>\n",
       "      <td>38.966</td>\n",
       "      <td>17.601</td>\n",
       "    </tr>\n",
       "    <tr>\n",
       "      <th>서초구</th>\n",
       "      <td>15.422</td>\n",
       "      <td>50.241</td>\n",
       "      <td>17.159</td>\n",
       "      <td>13.770</td>\n",
       "    </tr>\n",
       "    <tr>\n",
       "      <th>성동구</th>\n",
       "      <td>89.639</td>\n",
       "      <td>59.538</td>\n",
       "      <td>53.432</td>\n",
       "      <td>25.290</td>\n",
       "    </tr>\n",
       "    <tr>\n",
       "      <th>성북구</th>\n",
       "      <td>25.824</td>\n",
       "      <td>37.069</td>\n",
       "      <td>20.515</td>\n",
       "      <td>9.259</td>\n",
       "    </tr>\n",
       "    <tr>\n",
       "      <th>송파구</th>\n",
       "      <td>53.213</td>\n",
       "      <td>60.499</td>\n",
       "      <td>20.539</td>\n",
       "      <td>18.113</td>\n",
       "    </tr>\n",
       "    <tr>\n",
       "      <th>양천구</th>\n",
       "      <td>47.599</td>\n",
       "      <td>54.626</td>\n",
       "      <td>23.943</td>\n",
       "      <td>58.097</td>\n",
       "    </tr>\n",
       "    <tr>\n",
       "      <th>영등포구</th>\n",
       "      <td>74.678</td>\n",
       "      <td>55.607</td>\n",
       "      <td>25.539</td>\n",
       "      <td>29.032</td>\n",
       "    </tr>\n",
       "    <tr>\n",
       "      <th>용산구</th>\n",
       "      <td>45.900</td>\n",
       "      <td>62.486</td>\n",
       "      <td>4.628</td>\n",
       "      <td>16.338</td>\n",
       "    </tr>\n",
       "    <tr>\n",
       "      <th>은평구</th>\n",
       "      <td>23.173</td>\n",
       "      <td>30.089</td>\n",
       "      <td>31.608</td>\n",
       "      <td>34.095</td>\n",
       "    </tr>\n",
       "    <tr>\n",
       "      <th>종로구</th>\n",
       "      <td>26.788</td>\n",
       "      <td>35.058</td>\n",
       "      <td>10.820</td>\n",
       "      <td>4.816</td>\n",
       "    </tr>\n",
       "    <tr>\n",
       "      <th>중구</th>\n",
       "      <td>71.330</td>\n",
       "      <td>31.421</td>\n",
       "      <td>21.611</td>\n",
       "      <td>25.233</td>\n",
       "    </tr>\n",
       "    <tr>\n",
       "      <th>중랑구</th>\n",
       "      <td>27.311</td>\n",
       "      <td>34.433</td>\n",
       "      <td>15.000</td>\n",
       "      <td>12.946</td>\n",
       "    </tr>\n",
       "  </tbody>\n",
       "</table>\n",
       "</div>"
      ],
      "text/plain": [
       "        단독주택     아파트    연립주택    오피스텔\n",
       "강남구   -0.000  66.641  25.581  18.885\n",
       "강동구   49.874  44.700  17.802  17.991\n",
       "강북구   14.928  29.755  20.287   5.846\n",
       "강서구   37.817  38.288  15.812  26.066\n",
       "관악구   35.291  40.374  17.057  28.745\n",
       "광진구   36.226  51.659  10.822   4.669\n",
       "구로구   24.361  41.258  11.033  21.096\n",
       "금천구   31.881  27.396  20.289  14.686\n",
       "노원구   -3.868  40.888  32.504   8.749\n",
       "도봉구   15.034  32.744  12.503   6.505\n",
       "동대문구  61.939  35.588  35.975  25.876\n",
       "동작구   54.505  54.273  32.988  26.956\n",
       "마포구   41.356  53.343  20.089  12.914\n",
       "서대문구  34.585  40.055  38.966  17.601\n",
       "서초구   15.422  50.241  17.159  13.770\n",
       "성동구   89.639  59.538  53.432  25.290\n",
       "성북구   25.824  37.069  20.515   9.259\n",
       "송파구   53.213  60.499  20.539  18.113\n",
       "양천구   47.599  54.626  23.943  58.097\n",
       "영등포구  74.678  55.607  25.539  29.032\n",
       "용산구   45.900  62.486   4.628  16.338\n",
       "은평구   23.173  30.089  31.608  34.095\n",
       "종로구   26.788  35.058  10.820   4.816\n",
       "중구    71.330  31.421  21.611  25.233\n",
       "중랑구   27.311  34.433  15.000  12.946"
      ]
     },
     "execution_count": 36,
     "metadata": {},
     "output_type": "execute_result"
    }
   ],
   "source": [
    "gu_names=['강남구', '강동구', '강북구', '강서구', '관악구', '광진구', '구로구', '금천구', '노원구', '도봉구', '동대문구', '동작구', '마포구', '서대문구', '서초구', '성동구', '성북구', '송파구', '양천구', '영등포구', '용산구', '은평구', '종로구', '중구', '중랑구']\n",
    "use_names=['단독주택','아파트','연립주택','오피스텔']\n",
    "gu_use_rate_1619=pd.DataFrame(result_1619_3,index=gu_names, columns=use_names)\n",
    "gu_use_rate_1619"
   ]
  },
  {
   "cell_type": "code",
   "execution_count": 37,
   "metadata": {},
   "outputs": [
    {
     "data": {
      "text/plain": [
       "<matplotlib.axes._subplots.AxesSubplot at 0x1edea549fd0>"
      ]
     },
     "execution_count": 37,
     "metadata": {},
     "output_type": "execute_result"
    },
    {
     "data": {
      "image/png": "[encoded data removed]",
      "text/plain": [
       "<Figure size 1080x360 with 2 Axes>"
      ]
     },
     "metadata": {
      "needs_background": "light"
     },
     "output_type": "display_data"
    }
   ],
   "source": [
    "plt.figure(figsize=(15,5))\n",
    "sns.heatmap(gu_use_rate_1619, annot=True, cmap='YlGnBu')"
   ]
  },
  {
   "cell_type": "code",
   "execution_count": 49,
   "metadata": {},
   "outputs": [
    {
     "data": {
      "text/html": [
       "<div>\n",
       "<style scoped>\n",
       "    .dataframe tbody tr th:only-of-type {\n",
       "        vertical-align: middle;\n",
       "    }\n",
       "\n",
       "    .dataframe tbody tr th {\n",
       "        vertical-align: top;\n",
       "    }\n",
       "\n",
       "    .dataframe thead th {\n",
       "        text-align: right;\n",
       "    }\n",
       "</style>\n",
       "<table border=\"1\" class=\"dataframe\">\n",
       "  <thead>\n",
       "    <tr style=\"text-align: right;\">\n",
       "      <th></th>\n",
       "      <th>임금총액</th>\n",
       "      <th>정액급여+초과급여</th>\n",
       "      <th>정액급여</th>\n",
       "      <th>초과급여</th>\n",
       "      <th>특별급여</th>\n",
       "      <th>실질임금</th>\n",
       "    </tr>\n",
       "    <tr>\n",
       "      <th>기간</th>\n",
       "      <th></th>\n",
       "      <th></th>\n",
       "      <th></th>\n",
       "      <th></th>\n",
       "      <th></th>\n",
       "      <th></th>\n",
       "    </tr>\n",
       "  </thead>\n",
       "  <tbody>\n",
       "    <tr>\n",
       "      <th>2016</th>\n",
       "      <td>3.4</td>\n",
       "      <td>3.2</td>\n",
       "      <td>3.0</td>\n",
       "      <td>7.9</td>\n",
       "      <td>5.0</td>\n",
       "      <td>2.1</td>\n",
       "    </tr>\n",
       "    <tr>\n",
       "      <th>2017</th>\n",
       "      <td>2.8</td>\n",
       "      <td>2.4</td>\n",
       "      <td>2.2</td>\n",
       "      <td>10.6</td>\n",
       "      <td>5.9</td>\n",
       "      <td>0.7</td>\n",
       "    </tr>\n",
       "    <tr>\n",
       "      <th>2018</th>\n",
       "      <td>3.1</td>\n",
       "      <td>3.4</td>\n",
       "      <td>3.1</td>\n",
       "      <td>13.3</td>\n",
       "      <td>1.0</td>\n",
       "      <td>1.6</td>\n",
       "    </tr>\n",
       "    <tr>\n",
       "      <th>2019</th>\n",
       "      <td>4.0</td>\n",
       "      <td>3.9</td>\n",
       "      <td>3.3</td>\n",
       "      <td>20.2</td>\n",
       "      <td>4.1</td>\n",
       "      <td>3.3</td>\n",
       "    </tr>\n",
       "  </tbody>\n",
       "</table>\n",
       "</div>"
      ],
      "text/plain": [
       "      임금총액  정액급여+초과급여  정액급여  초과급여  특별급여  실질임금\n",
       "기간                                           \n",
       "2016   3.4        3.2   3.0   7.9   5.0   2.1\n",
       "2017   2.8        2.4   2.2  10.6   5.9   0.7\n",
       "2018   3.1        3.4   3.1  13.3   1.0   1.6\n",
       "2019   4.0        3.9   3.3  20.2   4.1   3.3"
      ]
     },
     "execution_count": 49,
     "metadata": {},
     "output_type": "execute_result"
    }
   ],
   "source": [
    "wage = pd.read_table('report.txt', sep='\\t', encoding='utf-8', header=1, index_col=0)\n",
    "wage.drop('구분', axis=1)"
   ]
  }
 ],
 "metadata": {
  "kernelspec": {
   "display_name": "Python 3",
   "language": "python",
   "name": "python3"
  },
  "language_info": {
   "codemirror_mode": {
    "name": "ipython",
    "version": 3
   },
   "file_extension": ".py",
   "mimetype": "text/x-python",
   "name": "python",
   "nbconvert_exporter": "python",
   "pygments_lexer": "ipython3",
   "version": "3.8.3"
  }
 },
 "nbformat": 4,
 "nbformat_minor": 4
}
