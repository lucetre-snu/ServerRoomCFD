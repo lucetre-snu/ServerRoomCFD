{
 "cells": [
  {
   "cell_type": "code",
   "execution_count": 88,
   "metadata": {},
   "outputs": [
    {
     "name": "stdout",
     "output_type": "stream",
     "text": [
      "[1]\n",
      "[1, 2]\n",
      "[1, 2, 3]\n"
     ]
    }
   ],
   "source": [
    "l=[]\n",
    "\n",
    "def f(a, L=l):\n",
    "\n",
    "    L.append(a)\n",
    "\n",
    "    return L\n",
    "\n",
    "f(1)\n",
    "print(l)\n",
    "f(2)\n",
    "print(l)\n",
    "f(3)\n",
    "print(l)"
   ]
  },
  {
   "cell_type": "code",
   "execution_count": 3,
   "metadata": {},
   "outputs": [
    {
     "name": "stdout",
     "output_type": "stream",
     "text": [
      "0.000000000100\n",
      "0.500000000050\n",
      "0.250000000125\n",
      "0.125000000262\n",
      "0.062500000531\n",
      "0.031250001066\n",
      "0.015625002133\n",
      "0.007812504266\n",
      "0.003906258533\n",
      "0.001953142067\n",
      "0.000976596633\n",
      "0.000488349515\n",
      "0.000244277143\n",
      "0.000122343257\n",
      "0.000061580315\n",
      "0.000031602105\n",
      "0.000017383226\n",
      "0.000011567949\n",
      "0.000010106262\n",
      "0.000010000559\n",
      "0.000010000000\n",
      "0.000010000000\n"
     ]
    }
   ],
   "source": [
    "testcase = '10'\n",
    "\n",
    "rf = open(f'./sqrt/in{testcase}.txt', 'r')\n",
    "wf = open(f'./sqrt/out{testcase}.txt', 'w')\n",
    "\n",
    "a = float(rf.readline())\n",
    "x = float(rf.readline())\n",
    "eps = float(rf.readline())\n",
    "rf.close()\n",
    "\n",
    "while (x*x-a)/a < -eps or (x*x-a)/a > eps:\n",
    "    wf.write(format(x, '.12f') + '\\n')\n",
    "    print(format(x, '.12f'))\n",
    "    x = 1/2 *(x + a/x)\n",
    "wf.write(format(x, '.12f') + '\\n')\n",
    "print(format(x, '.12f'))\n",
    "wf.close()"
   ]
  },
  {
   "cell_type": "code",
   "execution_count": 5,
   "metadata": {},
   "outputs": [
    {
     "name": "stdout",
     "output_type": "stream",
     "text": [
      "1024.0000000000009095\n",
      "1024.0000000000000000\n"
     ]
    }
   ],
   "source": [
    "import math\n",
    "print(format(x, '.16f'))\n",
    "print(format(math.sqrt(a), '.16f'))"
   ]
  },
  {
   "cell_type": "code",
   "execution_count": 1,
   "metadata": {},
   "outputs": [
    {
     "name": "stdin",
     "output_type": "stream",
     "text": [
      " 2\n",
      " 1\n",
      " 1e-12\n"
     ]
    },
    {
     "name": "stdout",
     "output_type": "stream",
     "text": [
      "1.000000000000\n",
      "1.500000000000\n",
      "1.416666666667\n",
      "1.414215686275\n",
      "1.414213562375\n",
      "1.414213562373"
     ]
    }
   ],
   "source": [
    "a = float(input())\n",
    "x = float(input())\n",
    "eps = float(input())\n",
    "\n",
    "while (x*x-a)/a <= -eps or (x*x-a)/a >= eps:\n",
    "    print(format(x, '.12f'))\n",
    "    x = 1/2 *(x + a/x)\n",
    "print(format(x, '.12f'), end='')"
   ]
  },
  {
   "cell_type": "code",
   "execution_count": 9,
   "metadata": {},
   "outputs": [
    {
     "name": "stdin",
     "output_type": "stream",
     "text": [
      " 100\n"
     ]
    },
    {
     "name": "stdout",
     "output_type": "stream",
     "text": [
      "354224848179261915075\n"
     ]
    }
   ],
   "source": [
    "f_prev = 0\n",
    "f_curr = 0\n",
    "f_next = 1\n",
    "\n",
    "n = int(input())\n",
    "for i in range(n):\n",
    "    f_prev = f_curr\n",
    "    f_curr = f_next\n",
    "    f_next = f_prev + f_curr\n",
    "\n",
    "print(f_curr)\n"
   ]
  },
  {
   "cell_type": "code",
   "execution_count": 58,
   "metadata": {},
   "outputs": [
    {
     "name": "stdout",
     "output_type": "stream",
     "text": [
      "33644764876431783266621612005107543310302148460680063906564769974680081442166662368155595513633734025582065332680836159373734790483865268263040892463056431887354544369559827491606602099884183933864652731300088830269235673613135117579297437854413752130520504347701602264758318906527890855154366159582987279682987510631200575428783453215515103870818298969791613127856265033195487140214287532698187962046936097879900350962302291026368131493195275630227837628441540360584402572114334961180023091208287046088923962328835461505776583271252546093591128203925285393434620904245248929403901706233888991085841065183173360437470737908552631764325733993712871937587746897479926305837065742830161637408969178426378624212835258112820516370298089332099905707920064367426202389783111470054074998459250360633560933883831923386783056136435351892133279732908133732642652633989763922723407882928177953580570993691049175470808931841056146322338217465637321248226383092103297701648054726243842374862411453093812206564914032751086643394517512161526545361333111314042436854805106765843493523836959653428071768775328348234345557366719731392746273629108210679280784718035329131176778924659089938635459327894523777674406192240337638674004021330343297496902028328145933418826817683893072003634795623117103101291953169794607632737589253530772552375943788434504067715555779056450443016640119462580972216729758615026968443146952034614932291105970676243268515992834709891284706740862008587135016260312071903172086094081298321581077282076353186624611278245537208532365305775956430072517744315051539600905168603220349163222640885248852433158051534849622434848299380905070483482449327453732624567755879089187190803662058009594743150052402532709746995318770724376825907419939632265984147498193609285223945039707165443156421328157688908058783183404917434556270520223564846495196112460268313970975069382648706613264507665074611512677522748621598642530711298441182622661057163515069260029861704945425047491378115154139941550671256271197133252763631939606902895650288268608362241082050562430701794976171121233066073310059947366875\n"
     ]
    }
   ],
   "source": [
    "testcase = '10'\n",
    "\n",
    "rf = open(f'./fibo/in{testcase}.txt', 'r')\n",
    "wf = open(f'./fibo/out{testcase}.txt', 'w')\n",
    "\n",
    "f_prev = 0\n",
    "f_curr = 0\n",
    "f_next = 1\n",
    "\n",
    "n = int(rf.readline())\n",
    "rf.close()\n",
    "for i in range(n):\n",
    "    f_prev = f_curr\n",
    "    f_curr = f_next\n",
    "    f_next = f_prev + f_curr\n",
    "\n",
    "print(f_curr)\n",
    "wf.write(str(f_curr))\n",
    "wf.close()\n",
    "\n"
   ]
  },
  {
   "cell_type": "code",
   "execution_count": 28,
   "metadata": {},
   "outputs": [
    {
     "name": "stdin",
     "output_type": "stream",
     "text": [
      " 2\n"
     ]
    },
    {
     "name": "stdout",
     "output_type": "stream",
     "text": [
      "1\n"
     ]
    }
   ],
   "source": [
    "def Fibonacci(n):\n",
    "    if n==0:\n",
    "        return 0\n",
    "    # Second Fibonacci number is 1\n",
    "    elif n<=2:\n",
    "        return 1\n",
    "    else:\n",
    "        return Fibonacci(n-1)+Fibonacci(n-2)\n",
    " \n",
    "# Driver Program\n",
    " \n",
    "print(Fibonacci(int(input())))\n",
    " "
   ]
  },
  {
   "cell_type": "code",
   "execution_count": 64,
   "metadata": {},
   "outputs": [
    {
     "name": "stdin",
     "output_type": "stream",
     "text": [
      " 5\n"
     ]
    },
    {
     "name": "stdout",
     "output_type": "stream",
     "text": [
      "    1\n",
      "   121\n",
      "  12321\n",
      " 1234321\n",
      "123454321\n",
      " 1234321\n",
      "  12321\n",
      "   121\n",
      "    1\n"
     ]
    }
   ],
   "source": [
    "n = int(input())\n",
    "\n",
    "for i in range(1, n):\n",
    "    for j in range(n-i):\n",
    "        print(' ', end='')\n",
    "    for j in range(i):\n",
    "        print(j+1, end='')\n",
    "    for j in range(i-1, 0, -1):\n",
    "        print(j, end='')\n",
    "    print()\n",
    "for i in range(n, 0, -1):\n",
    "    for j in range(n-i):\n",
    "        print(' ', end='')\n",
    "    for j in range(i):\n",
    "        print(j+1, end='')\n",
    "    for j in range(i-1, 0, -1):\n",
    "        print(j, end='')\n",
    "    print()\n",
    "\n"
   ]
  },
  {
   "cell_type": "code",
   "execution_count": 63,
   "metadata": {},
   "outputs": [],
   "source": [
    "\n",
    "for n in range(1,10):\n",
    "    wf = open(f'./dia/in0{n}.txt', 'w')\n",
    "    wf.write(str(n))\n",
    "    wf.close()"
   ]
  },
  {
   "cell_type": "code",
   "execution_count": 61,
   "metadata": {},
   "outputs": [
    {
     "name": "stdout",
     "output_type": "stream",
     "text": [
      "1\n",
      " 1\n",
      "121\n",
      " 1\n",
      "  1\n",
      " 121\n",
      "12321\n",
      " 121\n",
      "  1\n",
      "   1\n",
      "  121\n",
      " 12321\n",
      "1234321\n",
      " 12321\n",
      "  121\n",
      "   1\n",
      "    1\n",
      "   121\n",
      "  12321\n",
      " 1234321\n",
      "123454321\n",
      " 1234321\n",
      "  12321\n",
      "   121\n",
      "    1\n",
      "     1\n",
      "    121\n",
      "   12321\n",
      "  1234321\n",
      " 123454321\n",
      "12345654321\n",
      " 123454321\n",
      "  1234321\n",
      "   12321\n",
      "    121\n",
      "     1\n",
      "      1\n",
      "     121\n",
      "    12321\n",
      "   1234321\n",
      "  123454321\n",
      " 12345654321\n",
      "1234567654321\n",
      " 12345654321\n",
      "  123454321\n",
      "   1234321\n",
      "    12321\n",
      "     121\n",
      "      1\n",
      "       1\n",
      "      121\n",
      "     12321\n",
      "    1234321\n",
      "   123454321\n",
      "  12345654321\n",
      " 1234567654321\n",
      "123456787654321\n",
      " 1234567654321\n",
      "  12345654321\n",
      "   123454321\n",
      "    1234321\n",
      "     12321\n",
      "      121\n",
      "       1\n",
      "        1\n",
      "       121\n",
      "      12321\n",
      "     1234321\n",
      "    123454321\n",
      "   12345654321\n",
      "  1234567654321\n",
      " 123456787654321\n",
      "12345678987654321\n",
      " 123456787654321\n",
      "  1234567654321\n",
      "   12345654321\n",
      "    123454321\n",
      "     1234321\n",
      "      12321\n",
      "       121\n",
      "        1\n"
     ]
    }
   ],
   "source": [
    "\n",
    "for n in range(1,10):\n",
    "    wf = open(f'./dia/out0{n}.txt', 'w')\n",
    "\n",
    "    for i in range(1, n):\n",
    "        for j in range(n-i):\n",
    "            wf.write(' ')\n",
    "            print(' ', end='')\n",
    "        for j in range(i):\n",
    "            wf.write(str(j+1))\n",
    "            print(j+1, end='')\n",
    "        for j in range(i-1, 0, -1):\n",
    "            wf.write(str(j))\n",
    "            print(j, end='')\n",
    "        print()\n",
    "        wf.write('\\n')\n",
    "    for i in range(n, 0, -1):\n",
    "        for j in range(n-i):\n",
    "            wf.write(' ')\n",
    "            print(' ', end='')\n",
    "        for j in range(i):\n",
    "            print(j+1, end='')\n",
    "            wf.write(str(j+1))\n",
    "        for j in range(i-1, 0, -1):\n",
    "            print(j, end='')\n",
    "            wf.write(str(j))\n",
    "        print()\n",
    "        wf.write('\\n')\n",
    "    wf.close()\n",
    "\n"
   ]
  },
  {
   "cell_type": "code",
   "execution_count": 67,
   "metadata": {},
   "outputs": [
    {
     "name": "stdout",
     "output_type": "stream",
     "text": [
      "1901,12.3\n",
      "\n",
      "1902,45.6\n",
      "\n",
      "1903,78.9\n"
     ]
    }
   ],
   "source": [
    "f = open('untitled.txt', 'r')\n",
    "for r in f:\n",
    "    print(r)"
   ]
  },
  {
   "cell_type": "code",
   "execution_count": 69,
   "metadata": {},
   "outputs": [
    {
     "name": "stdout",
     "output_type": "stream",
     "text": [
      "['1', '2', '3', '4', '5']\n"
     ]
    }
   ],
   "source": [
    "arr = '1 2 3 4 5'.split()\n",
    "print(arr)"
   ]
  },
  {
   "cell_type": "code",
   "execution_count": 71,
   "metadata": {},
   "outputs": [
    {
     "name": "stdout",
     "output_type": "stream",
     "text": [
      "*\n",
      "**\n",
      "***\n",
      "****\n",
      "*****\n",
      "******\n",
      "*******\n",
      "********\n",
      "*********\n",
      "**********\n"
     ]
    }
   ],
   "source": [
    "for i in range(10):\n",
    "    for j in range(10):\n",
    "        if j <= i:\n",
    "            print('*', end='')\n",
    "    print()"
   ]
  }
 ],
 "metadata": {
  "kernelspec": {
   "display_name": "Python 3",
   "language": "python",
   "name": "python3"
  },
  "language_info": {
   "codemirror_mode": {
    "name": "ipython",
    "version": 3
   },
   "file_extension": ".py",
   "mimetype": "text/x-python",
   "name": "python",
   "nbconvert_exporter": "python",
   "pygments_lexer": "ipython3",
   "version": "3.7.6"
  }
 },
 "nbformat": 4,
 "nbformat_minor": 4
}
