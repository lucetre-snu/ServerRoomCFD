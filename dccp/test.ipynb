{
 "cells": [
  {
   "cell_type": "markdown",
   "metadata": {},
   "source": [
    "# #1 Matrix Calculator"
   ]
  },
  {
   "cell_type": "code",
   "execution_count": 52,
   "metadata": {},
   "outputs": [
    {
     "name": "stdin",
     "output_type": "stream",
     "text": [
      " [[1,0,0],[0,1,0],[0,0,1]]\n",
      " [[1,-1,-1],[-1,2,3],[0,0,0]]\n"
     ]
    },
    {
     "name": "stdout",
     "output_type": "stream",
     "text": [
      "[[-1,0,0],[0,-1,0],[0,0,-1]]\n",
      "[[1,0,0],[0,1,0],[0,0,1]]\n",
      "[[2,-1,-1],[-1,3,3],[0,0,1]]\n",
      "[[0,1,1],[1,-1,-3],[0,0,1]]\n",
      "[[1,-1,-1],[-1,2,3],[0,0,0]]\n"
     ]
    }
   ],
   "source": [
    "A_str = input()\n",
    "B_str = input()\n",
    "\n",
    "def str_to_mat(s):\n",
    "    M = s.split('],[')\n",
    "    M[0] = M[0][2:]\n",
    "    M[-1] = M[-1][:-2]\n",
    "    return [[int(e) for e in row.split(',')] for row in M]\n",
    "\n",
    "def mat_len(M):\n",
    "    return (len(M), len(M[0]))\n",
    "\n",
    "def mat_to_str(M):\n",
    "    return '[[' + '],['.join([','.join([str(e) for e in row]) for row in M]) + ']]'\n",
    "\n",
    "def minusM(A):\n",
    "    return [[-e for e in row] for row in A]\n",
    "\n",
    "def tranM(A):\n",
    "    return [[e for e in row] for row in zip(*A)]\n",
    "\n",
    "def sumM(A, B):\n",
    "    if mat_len(A) != mat_len(B):\n",
    "        raise Exception()\n",
    "    return [[sum(pair) for pair in zip(*rows)] for rows in zip(A, B)]\n",
    "\n",
    "def subM(A, B):\n",
    "    if mat_len(A) != mat_len(B):\n",
    "        raise Exception()\n",
    "    return [[sum(pair) for pair in zip(*rows)] for rows in zip(A, minusM(B))]\n",
    "\n",
    "def mulM(A, B):\n",
    "    if mat_len(A)[1] != mat_len(B)[0]:\n",
    "        raise Exception()\n",
    "    return [[sum(a*b for a,b in zip(rowA, colB)) for colB in zip(*B)] for rowA in A]\n",
    "\n",
    "A = str_to_mat(A_str)\n",
    "B = str_to_mat(B_str)\n",
    "\n",
    "print(mat_to_str(minusM(A)))\n",
    "print(mat_to_str(tranM(A)))\n",
    "    \n",
    "try: print(mat_to_str(sumM(A, B)))\n",
    "except: print('Error')\n",
    "    \n",
    "try: print(mat_to_str(subM(A, B)))\n",
    "except: print('Error')\n",
    "    \n",
    "try: print(mat_to_str(mulM(A, B)))\n",
    "except: print('Error')"
   ]
  },
  {
   "cell_type": "code",
   "execution_count": 74,
   "metadata": {},
   "outputs": [
    {
     "name": "stdout",
     "output_type": "stream",
     "text": [
      "0.898999999900\n",
      "0.000010000000\n"
     ]
    }
   ],
   "source": [
    "from decimal import *\n",
    "pos_str = '0.00001 0.1010000001 0.123 0.1320984 0.89821390'\n",
    "dir_str = '- + - + -'\n",
    "\n",
    "ants = []\n",
    "for pos, dir in zip(pos_str.split(), dir_str.split()):\n",
    "    if dir == '+':\n",
    "        ants.append(1-Decimal(pos))\n",
    "    else: ants.append(Decimal(pos))\n",
    "print(format(max(ants), '.12f'))\n",
    "print(format(min(ants), '.12f'))"
   ]
  },
  {
   "cell_type": "code",
   "execution_count": 7,
   "metadata": {},
   "outputs": [
    {
     "name": "stdout",
     "output_type": "stream",
     "text": [
      "355/113 1/2\n"
     ]
    }
   ],
   "source": [
    "from fractions import Fraction\n",
    "from math import pi, cos\n",
    "\n",
    "f1 = Fraction('3.1415926535897932').limit_denominator(1000)\n",
    "f2 = Fraction(cos(pi/3)).limit_denominator(1000)\n",
    "print(f1, f2)"
   ]
  },
  {
   "cell_type": "code",
   "execution_count": 58,
   "metadata": {
    "scrolled": true
   },
   "outputs": [
    {
     "name": "stdin",
     "output_type": "stream",
     "text": [
      " 4\n",
      " 1\n",
      " 0.01\n"
     ]
    },
    {
     "name": "stdout",
     "output_type": "stream",
     "text": [
      "1 2\n",
      "5/2 2\n",
      "41/20 2\n",
      "3281/1640 2\n"
     ]
    }
   ],
   "source": [
    "from fractions import Fraction\n",
    "from math import sqrt\n",
    "\n",
    "a = Fraction(int(input()))\n",
    "x = Fraction(int(input()))\n",
    "eps = float(input())\n",
    "f = Fraction(sqrt(a)).limit_denominator(x.denominator)\n",
    "\n",
    "while (x*x-a)/a <= -eps or (x*x-a)/a >= eps:\n",
    "    print(x, f)\n",
    "    x = Fraction(1/2) * (x + a/x)\n",
    "    f = Fraction(sqrt(a)).limit_denominator(x.denominator)\n",
    "print(x, f)"
   ]
  },
  {
   "cell_type": "code",
   "execution_count": 127,
   "metadata": {},
   "outputs": [],
   "source": [
    "from datetime import datetime, timedelta\n",
    "import time\n",
    "\n",
    "def is_friday_the_13th(date):\n",
    "    return (date.weekday() == 4) and (date.day == 13)\n",
    "\n",
    "def get_friday_the_13th_slow(start_date, end_date):\n",
    "    mlist = []\n",
    "    delta = timedelta(days=1)\n",
    "    date = start_date\n",
    "\n",
    "    while date <= end_date:\n",
    "        if is_friday_the_13th(date):\n",
    "            mlist.append(date.strftime('%b %Y'))\n",
    "        if date > end_date - delta:\n",
    "            break\n",
    "        date += delta\n",
    "    return mlist\n",
    "\n",
    "def get_friday_the_13th(start_date, end_date):\n",
    "    total_months = lambda dt: dt.month + 12 * dt.year\n",
    "    mlist = []\n",
    "    for tot_m in range(total_months(start_date)-1, total_months(end_date)):\n",
    "        y, m = divmod(tot_m, 12)\n",
    "        if (start_date.month == m+1 and start_date.day > 13) or (end_date.month == m+1 and end_date.day < 13):\n",
    "            continue\n",
    "        if is_friday_the_13th(datetime(y, m+1, 13)):\n",
    "            mlist.append(datetime(y, m+1, 13).strftime('%b %Y'))\n",
    "    return mlist"
   ]
  },
  {
   "cell_type": "code",
   "execution_count": 124,
   "metadata": {},
   "outputs": [],
   "source": [
    "start_date = datetime.min\n",
    "end_date = datetime.max"
   ]
  },
  {
   "cell_type": "code",
   "execution_count": 125,
   "metadata": {},
   "outputs": [
    {
     "name": "stdout",
     "output_type": "stream",
     "text": [
      "17199 0.6817111968994141\n"
     ]
    }
   ],
   "source": [
    "start_time = time.time()\n",
    "mlist = get_friday_the_13th_slow(start_date, end_date)\n",
    "print(len(mlist), time.time() - start_time)"
   ]
  },
  {
   "cell_type": "code",
   "execution_count": 126,
   "metadata": {},
   "outputs": [
    {
     "name": "stdout",
     "output_type": "stream",
     "text": [
      "17199 0.08646750450134277\n"
     ]
    }
   ],
   "source": [
    "start_time = time.time()\n",
    "mlist = get_friday_the_13th(start_date, end_date)\n",
    "print(len(mlist), time.time() - start_time)"
   ]
  },
  {
   "cell_type": "code",
   "execution_count": null,
   "metadata": {},
   "outputs": [],
   "source": []
  }
 ],
 "metadata": {
  "kernelspec": {
   "display_name": "Python 3",
   "language": "python",
   "name": "python3"
  },
  "language_info": {
   "codemirror_mode": {
    "name": "ipython",
    "version": 3
   },
   "file_extension": ".py",
   "mimetype": "text/x-python",
   "name": "python",
   "nbconvert_exporter": "python",
   "pygments_lexer": "ipython3",
   "version": "3.7.6"
  }
 },
 "nbformat": 4,
 "nbformat_minor": 4
}
