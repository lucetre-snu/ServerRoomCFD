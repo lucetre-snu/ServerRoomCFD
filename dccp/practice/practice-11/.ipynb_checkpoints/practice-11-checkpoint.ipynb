{
 "cells": [
  {
   "cell_type": "markdown",
   "metadata": {},
   "source": [
    "# #1 Matrix Calculator"
   ]
  },
  {
   "cell_type": "code",
   "execution_count": 7,
   "metadata": {},
   "outputs": [
    {
     "name": "stdin",
     "output_type": "stream",
     "text": [
      " [[1,2,3],[4,5,6],[7,8,9]]\n",
      " [[1,0,0],[0,1,0],[0,0,1]]\n"
     ]
    },
    {
     "name": "stdout",
     "output_type": "stream",
     "text": [
      "[[-1,-2,-3],[-4,-5,-6],[-7,-8,-9]]\n",
      "[[1,4,7],[2,5,8],[3,6,9]]\n",
      "[[2,2,3],[4,6,6],[7,8,10]]\n",
      "[[0,2,3],[4,4,6],[7,8,8]]\n",
      "[[1,2,3],[4,5,6],[7,8,9]]\n"
     ]
    }
   ],
   "source": [
    "def str_to_mat(s):\n",
    "    M = s.split('],[')\n",
    "    M[0] = M[0][2:]\n",
    "    M[-1] = M[-1][:-2]\n",
    "    return [[int(e) for e in row.split(',')] for row in M]\n",
    "\n",
    "def mat_len(M):\n",
    "    return (len(M), len(M[0]))\n",
    "\n",
    "def mat_to_str(M):\n",
    "    return '[[' + '],['.join([','.join([str(e) for e in row]) for row in M]) + ']]'\n",
    "\n",
    "def minusM(A):\n",
    "    return [[-e for e in row] for row in A]\n",
    "\n",
    "def tranM(A):\n",
    "    return [[e for e in row] for row in zip(*A)]\n",
    "\n",
    "def sumM(A, B):\n",
    "    if mat_len(A) != mat_len(B):\n",
    "        raise Exception()\n",
    "    return [[sum(pair) for pair in zip(*rows)] for rows in zip(A, B)]\n",
    "\n",
    "def subM(A, B):\n",
    "    if mat_len(A) != mat_len(B):\n",
    "        raise Exception()\n",
    "    return [[sum(pair) for pair in zip(*rows)] for rows in zip(A, minusM(B))]\n",
    "\n",
    "def mulM(A, B):\n",
    "    if mat_len(A)[1] != mat_len(B)[0]:\n",
    "        raise Exception()\n",
    "    return [[sum(a*b for a,b in zip(rowA, colB)) for colB in zip(*B)] for rowA in A]\n",
    "\n",
    "A = str_to_mat(input())\n",
    "B = str_to_mat(input())\n",
    "\n",
    "print(mat_to_str(minusM(A)))\n",
    "print(mat_to_str(tranM(A)))\n",
    "    \n",
    "try: print(mat_to_str(sumM(A, B)))\n",
    "except: print('Error')\n",
    "    \n",
    "try: print(mat_to_str(subM(A, B)))\n",
    "except: print('Error')\n",
    "    \n",
    "try: print(mat_to_str(mulM(A, B)))\n",
    "except: print('Error')"
   ]
  },
  {
   "cell_type": "code",
   "execution_count": 6,
   "metadata": {},
   "outputs": [
    {
     "name": "stdout",
     "output_type": "stream",
     "text": [
      "[[-1]]\n",
      "[[1]]\n",
      "[[3]]\n",
      "[[-1]]\n",
      "[[2]]\n"
     ]
    }
   ],
   "source": [
    "A_str = '[[1]]'\n",
    "B_str = '[[2]]'\n",
    "\n",
    "def str_to_mat(s):\n",
    "    M = s.split('],[')\n",
    "    M[0] = M[0][2:]\n",
    "    M[-1] = M[-1][:-2]\n",
    "    return [[int(e) for e in row.split(',')] for row in M]\n",
    "\n",
    "def mat_len(M):\n",
    "    return (len(M), len(M[0]))\n",
    "\n",
    "def mat_to_str(M):\n",
    "    return '[[' + '],['.join([','.join([str(e) for e in row]) for row in M]) + ']]'\n",
    "\n",
    "def minusM(A):\n",
    "    return [[-e for e in row] for row in A]\n",
    "\n",
    "def tranM(A):\n",
    "    return [[e for e in row] for row in zip(*A)]\n",
    "\n",
    "def sumM(A, B):\n",
    "    if mat_len(A) != mat_len(B):\n",
    "        raise Exception()\n",
    "    return [[sum(pair) for pair in zip(*rows)] for rows in zip(A, B)]\n",
    "\n",
    "def subM(A, B):\n",
    "    if mat_len(A) != mat_len(B):\n",
    "        raise Exception()\n",
    "    return [[sum(pair) for pair in zip(*rows)] for rows in zip(A, minusM(B))]\n",
    "\n",
    "def mulM(A, B):\n",
    "    if mat_len(A)[1] != mat_len(B)[0]:\n",
    "        raise Exception()\n",
    "    return [[sum(a*b for a,b in zip(rowA, colB)) for colB in zip(*B)] for rowA in A]\n",
    "\n",
    "A = str_to_mat(A_str)\n",
    "B = str_to_mat(B_str)\n",
    "\n",
    "print(mat_to_str(minusM(A)))\n",
    "print(mat_to_str(tranM(A)))\n",
    "    \n",
    "try: print(mat_to_str(sumM(A, B)))\n",
    "except: print('Error')\n",
    "    \n",
    "try: print(mat_to_str(subM(A, B)))\n",
    "except: print('Error')\n",
    "    \n",
    "try: print(mat_to_str(mulM(A, B)))\n",
    "except: print('Error')"
   ]
  },
  {
   "cell_type": "code",
   "execution_count": 67,
   "metadata": {
    "scrolled": true
   },
   "outputs": [
    {
     "name": "stdout",
     "output_type": "stream",
     "text": [
      "[[-405684,-211579,257635,-354452,940818,-83139,-522305,546818,-262474,-167720]]\n",
      "[[-859215,-567489,-227818,947034,244844,762256,932789,-801294,-365641,977525,690376,-527624,-589682,987551,-630722,-939983,-936691,-611623,980763,33342],[-735280,-777473,255866,900485,81627,929185,991929,-277301,441377,817453,858775,-991693,-91861,-633873,580356,-245027,912818,199037,622701,368899],[656980,-105398,-532669,-805163,-628125,472236,-977213,215171,-174034,-19026,-597263,-527577,763626,690818,-608260,-274420,350122,-509748,-640660,-662274],[-31368,113361,-385541,313497,57535,627904,-191556,-220819,259553,24906,603484,230613,94664,-483950,18172,878723,-218794,244281,376743,234998],[781288,-785231,-31137,-169085,215860,177233,-495462,500127,-610849,-286443,414231,968007,997751,964208,-742545,-184926,-64644,-542986,893757,-977707],[971553,-432924,-72717,580977,441399,807063,64361,-88312,631751,-230389,188343,741048,287455,-740807,799069,-121489,270556,137799,231388,-21967],[-369944,-889412,-14982,-261305,635074,-565875,-355555,-305693,208713,684920,159442,676446,447517,-740967,-546078,808615,-90090,-5549,625464,961553],[-741493,-707791,999093,-434404,339164,15338,-876198,577928,346111,966048,-614524,630839,-594034,249294,921925,394382,995462,-723221,-907035,27829],[-918535,-835472,-393764,758651,444112,-609776,-7068,-724978,-367908,242791,981514,523432,-406080,164204,-400968,-938882,-294539,614573,558278,-98856],[-111895,-320543,-379351,853226,563215,-809164,681630,832412,729722,252002,558519,-129668,-654427,935011,-857413,-794018,478506,542475,507562,-709439]]\n"
     ]
    }
   ],
   "source": [
    "import numpy as np\n",
    "i = 9\n",
    "tn = \"%02d\" % (i+1)\n",
    "with open(f'./matrix/in{tn}.txt', 'w') as wf:\n",
    "    A = np.random.randint(-1000000, 1000000, size=(1,10), dtype=int).tolist()\n",
    "    B = np.random.randint(-1000000, 1000000, size=(10,20), dtype=int).tolist()\n",
    "    print(mat_to_str(A))\n",
    "    print(mat_to_str(B))\n",
    "    wf.write(mat_to_str(A)+'\\n')\n",
    "    wf.write(mat_to_str(B)+'\\n')"
   ]
  },
  {
   "cell_type": "code",
   "execution_count": 68,
   "metadata": {
    "scrolled": true
   },
   "outputs": [
    {
     "name": "stdout",
     "output_type": "stream",
     "text": [
      "[[405684,211579,-257635,354452,-940818,83139,522305,-546818,262474,167720]]\n",
      "[[-405684],[-211579],[257635],[-354452],[940818],[-83139],[-522305],[546818],[-262474],[-167720]]\n",
      "Error\n",
      "Error\n",
      "[[1386415413169,-24821044771,735583985852,-1543946369294,-489704348811,92626951133,-1649526760662,1521681345803,-654683419371,-769065110422,-1226104735159,931318527110,994423818325,1375140601541,243292453111,60048405941,859755890836,-1179074003827,-1060926551975,-1605588403167]]\n"
     ]
    }
   ],
   "source": [
    "   with open(f'./matrix/in{tn}.txt', 'r') as rf:\n",
    "    with open(f'./matrix/out{tn}.txt', 'w') as wf:\n",
    "        A = str_to_mat(rf.readline().rstrip('\\n'))\n",
    "        B = str_to_mat(rf.readline().rstrip('\\n'))\n",
    "        \n",
    "        print(mat_to_str(minusM(A)))\n",
    "        print(mat_to_str(tranM(A)))\n",
    "\n",
    "        try: print(mat_to_str(sumM(A, B)))\n",
    "        except: print('Error')\n",
    "\n",
    "        try: print(mat_to_str(subM(A, B)))\n",
    "        except: print('Error')\n",
    "\n",
    "        try: print(mat_to_str(mulM(A, B)))\n",
    "        except: print('Error')\n",
    "            \n",
    "        wf.write(mat_to_str(minusM(A))+'\\n')\n",
    "        wf.write(mat_to_str(tranM(A))+'\\n')\n",
    "\n",
    "        try: wf.write(mat_to_str(sumM(A, B))+'\\n')\n",
    "        except: wf.write('Error\\n')\n",
    "\n",
    "        try: wf.write(mat_to_str(subM(A, B))+'\\n')\n",
    "        except: wf.write('Error\\n')\n",
    "\n",
    "        try: wf.write(mat_to_str(mulM(A, B))+'\\n')\n",
    "        except: wf.write('Error\\n')"
   ]
  },
  {
   "cell_type": "markdown",
   "metadata": {},
   "source": [
    "# #2 Square Roots via Newton’s Method (Revisit)"
   ]
  },
  {
   "cell_type": "code",
   "execution_count": 8,
   "metadata": {
    "scrolled": true
   },
   "outputs": [
    {
     "name": "stdin",
     "output_type": "stream",
     "text": [
      " 4\n",
      " 1\n",
      " 0.01\n"
     ]
    },
    {
     "name": "stdout",
     "output_type": "stream",
     "text": [
      "1 2\n",
      "5/2 2\n",
      "41/20 2\n",
      "3281/1640 2\n"
     ]
    }
   ],
   "source": [
    "from fractions import Fraction\n",
    "from math import sqrt\n",
    "\n",
    "a = Fraction(int(input()))\n",
    "x = Fraction(int(input()))\n",
    "eps = float(input())\n",
    "f = Fraction(sqrt(a)).limit_denominator(x.denominator)\n",
    "\n",
    "while (x*x-a)/a <= -eps or (x*x-a)/a >= eps:\n",
    "    print(x, f)\n",
    "    x = Fraction(1/2) * (x + a/x)\n",
    "    f = Fraction(sqrt(a)).limit_denominator(x.denominator)\n",
    "print(x, f)"
   ]
  },
  {
   "cell_type": "code",
   "execution_count": 9,
   "metadata": {},
   "outputs": [
    {
     "name": "stdout",
     "output_type": "stream",
     "text": [
      "1 10\n",
      "101/2 10\n",
      "10601/404 10\n",
      "128702801/8565608 10\n",
      "23901375026212001/2204835483736016 10\n",
      "1057405679177773899015136551649601/105397199535748138653047870256032 10\n",
      "2228963737355240067226341827121351476004413556601559495677521961601/222895194717066232864317030624849006348574787838996721983641286464 10\n",
      "9936506125240526693126733988150832791181511437724832305640006839864682608481918254099444667323352864677809916973804863896957880812801/993650612510151824074958925538589300439185013461061345483147770187307778405188218146967823138235109552370030745199319835640898137728 10\n",
      "197468307951122494411042770847076458687878970606430210467604971552484059082218881242393171250164294053363263059390654588331837154802287213160003140201887707176858821400693646890253450491219631783618779885061657004784855070846164605359689711551278343987246150105664001/19746830795112249441102344749724416977277351653770819088654957008672245575366869670476426878341787851636324511996086855897744707247299262704049798669278637423597472336021491825071088994108590438413600182273924963244673402744649636308309792004661935810425087766912256 10\n"
     ]
    }
   ],
   "source": [
    "from fractions import Fraction\n",
    "from math import sqrt\n",
    "\n",
    "a_str = '100'\n",
    "x_str = '1'\n",
    "eps_str = '1e-12'\n",
    "\n",
    "a = Fraction(int(a_str))\n",
    "x = Fraction(int(x_str))\n",
    "eps = float(eps_str)\n",
    "f = Fraction(sqrt(a)).limit_denominator(x.denominator)\n",
    "\n",
    "while (x*x-a)/a <= -eps or (x*x-a)/a >= eps:\n",
    "    print(x, f)\n",
    "    x = Fraction(1/2) * (x + a/x)\n",
    "    f = Fraction(sqrt(a)).limit_denominator(x.denominator)\n",
    "print(x, f)"
   ]
  },
  {
   "cell_type": "markdown",
   "metadata": {},
   "source": [
    "# #3 Ant Experiment"
   ]
  },
  {
   "cell_type": "code",
   "execution_count": 10,
   "metadata": {},
   "outputs": [
    {
     "name": "stdin",
     "output_type": "stream",
     "text": [
      " 0.00001 0.1010000001 0.123 0.1320984 0.89821390\n",
      " - + - + -\n"
     ]
    },
    {
     "name": "stdout",
     "output_type": "stream",
     "text": [
      "0.898999999900\n",
      "0.000010000000\n"
     ]
    }
   ],
   "source": [
    "from decimal import *\n",
    "pos_list = input().split()\n",
    "dir_list = input().split()\n",
    "\n",
    "ants = []\n",
    "for pos, dir in zip(pos_list, dir_list):\n",
    "    if dir == '+':\n",
    "        ants.append(1-Decimal(pos))\n",
    "    else: ants.append(Decimal(pos))\n",
    "print(format(max(ants), '.12f'))\n",
    "print(format(min(ants), '.12f'))"
   ]
  },
  {
   "cell_type": "code",
   "execution_count": 11,
   "metadata": {},
   "outputs": [
    {
     "name": "stdout",
     "output_type": "stream",
     "text": [
      "0.898999999900\n",
      "0.000010000000\n"
     ]
    }
   ],
   "source": [
    "from decimal import *\n",
    "pos_str = '0.00001 0.1010000001 0.123 0.1320984 0.89821390'\n",
    "dir_str = '- + - + -'\n",
    "\n",
    "ants = []\n",
    "for pos, dir in zip(pos_str.split(), dir_str.split()):\n",
    "    if dir == '+':\n",
    "        ants.append(1-Decimal(pos))\n",
    "    else: ants.append(Decimal(pos))\n",
    "print(format(max(ants), '.12f'))\n",
    "print(format(min(ants), '.12f'))"
   ]
  }
 ],
 "metadata": {
  "kernelspec": {
   "display_name": "Python 3",
   "language": "python",
   "name": "python3"
  },
  "language_info": {
   "codemirror_mode": {
    "name": "ipython",
    "version": 3
   },
   "file_extension": ".py",
   "mimetype": "text/x-python",
   "name": "python",
   "nbconvert_exporter": "python",
   "pygments_lexer": "ipython3",
   "version": "3.7.6"
  }
 },
 "nbformat": 4,
 "nbformat_minor": 4
}
